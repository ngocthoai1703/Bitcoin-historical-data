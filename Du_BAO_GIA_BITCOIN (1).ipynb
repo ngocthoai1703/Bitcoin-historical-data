
[GoogleColab](https://colab.research.google.com/drive/1WOfECKtVJt8kDAm0bmvXBM5fM2oeAcLo?usp=sharing)
{
  "cells": [
    {
      "cell_type": "markdown",
      "metadata": {
        "id": "EteZtaZPBK5k"
      },
      "source": [
        "# Lưu dữ liệu từ GitHub\n",
        "\n",
        "Có thể tải dữ liệu lịch sử giá Bitcoin từ [GitHub](https://github.com/ngocthoai1703/Bitcoin-historical-data/blob/main/Bitcoin_historical_data.csv) \n",
        "\n",
        "Lưu ý: bạn sẽ cần chọn \"Raw\" để tải xuống dữ liệu ở định dạng chính xác\n",
        "\n",
        "\n"
      ]
    },
    {
      "cell_type": "code",
      "execution_count": null,
      "metadata": {
        "colab": {
          "base_uri": "https://localhost:8080/"
        },
        "id": "mVEjK6ZHDqkQ",
        "outputId": "4bab8e53-535e-4f00-e713-30847d32b4fa"
      },
      "outputs": [
        {
          "name": "stdout",
          "output_type": "stream",
          "text": [
            "--2022-12-24 08:50:50--  https://raw.githubusercontent.com/ngocthoai1703/Bitcoin-historical-data/main/Bitcoin_historical.csv\n",
            "Resolving raw.githubusercontent.com (raw.githubusercontent.com)... 185.199.110.133, 185.199.111.133, 185.199.109.133, ...\n",
            "Connecting to raw.githubusercontent.com (raw.githubusercontent.com)|185.199.110.133|:443... connected.\n",
            "HTTP request sent, awaiting response... 200 OK\n",
            "Length: 157000 (153K) [text/plain]\n",
            "Saving to: ‘Bitcoin_historical.csv’\n",
            "\n",
            "Bitcoin_historical. 100%[===================>] 153.32K  --.-KB/s    in 0.006s  \n",
            "\n",
            "2022-12-24 08:50:51 (26.8 MB/s) - ‘Bitcoin_historical.csv’ saved [157000/157000]\n",
            "\n"
          ]
        }
      ],
      "source": [
        "!wget https://raw.githubusercontent.com/ngocthoai1703/Bitcoin-historical-data/main/Bitcoin_historical.csv"
      ]
    },
    {
      "cell_type": "markdown",
      "metadata": {
        "id": "0JV-wgCSlrCw"
      },
      "source": [
        "# Import và định dạng dữ liệu phù hợp"
      ]
    },
    {
      "cell_type": "markdown",
      "metadata": {
        "id": "hlmBUqt4rLLz"
      },
      "source": [
        "## Importing dữ liệu time series với pandas\n",
        "Sử dụng hàm pd để đọc dữ liệu và hình dung nó\n",
        "\n",
        "Dùng `Parse_dates` của pd để phân tích ngày tháng năm"
      ]
    },
    {
      "cell_type": "code",
      "execution_count": null,
      "metadata": {
        "colab": {
          "base_uri": "https://localhost:8080/",
          "height": 237
        },
        "id": "5FOrshVX_dUE",
        "outputId": "d970a3fb-9c57-4758-a2fc-67df1678b994"
      },
      "outputs": [
        {
          "data": {
            "text/html": [
              "\n",
              "  <div id=\"df-142ac3a8-30db-4a7a-93b5-89b0c96387ce\">\n",
              "    <div class=\"colab-df-container\">\n",
              "      <div>\n",
              "<style scoped>\n",
              "    .dataframe tbody tr th:only-of-type {\n",
              "        vertical-align: middle;\n",
              "    }\n",
              "\n",
              "    .dataframe tbody tr th {\n",
              "        vertical-align: top;\n",
              "    }\n",
              "\n",
              "    .dataframe thead th {\n",
              "        text-align: right;\n",
              "    }\n",
              "</style>\n",
              "<table border=\"1\" class=\"dataframe\">\n",
              "  <thead>\n",
              "    <tr style=\"text-align: right;\">\n",
              "      <th></th>\n",
              "      <th>Currency</th>\n",
              "      <th>Closing Price (USD)</th>\n",
              "      <th>24h Open (USD)</th>\n",
              "      <th>24h High (USD)</th>\n",
              "      <th>24h Low (USD)</th>\n",
              "    </tr>\n",
              "    <tr>\n",
              "      <th>Date</th>\n",
              "      <th></th>\n",
              "      <th></th>\n",
              "      <th></th>\n",
              "      <th></th>\n",
              "      <th></th>\n",
              "    </tr>\n",
              "  </thead>\n",
              "  <tbody>\n",
              "    <tr>\n",
              "      <th>2013-10-01</th>\n",
              "      <td>BTC</td>\n",
              "      <td>123.65499</td>\n",
              "      <td>124.30466</td>\n",
              "      <td>124.75166</td>\n",
              "      <td>122.56349</td>\n",
              "    </tr>\n",
              "    <tr>\n",
              "      <th>2013-10-02</th>\n",
              "      <td>BTC</td>\n",
              "      <td>125.45500</td>\n",
              "      <td>123.65499</td>\n",
              "      <td>125.75850</td>\n",
              "      <td>123.63383</td>\n",
              "    </tr>\n",
              "    <tr>\n",
              "      <th>2013-10-03</th>\n",
              "      <td>BTC</td>\n",
              "      <td>108.58483</td>\n",
              "      <td>125.45500</td>\n",
              "      <td>125.66566</td>\n",
              "      <td>83.32833</td>\n",
              "    </tr>\n",
              "    <tr>\n",
              "      <th>2013-10-04</th>\n",
              "      <td>BTC</td>\n",
              "      <td>118.67466</td>\n",
              "      <td>108.58483</td>\n",
              "      <td>118.67500</td>\n",
              "      <td>107.05816</td>\n",
              "    </tr>\n",
              "    <tr>\n",
              "      <th>2013-10-05</th>\n",
              "      <td>BTC</td>\n",
              "      <td>121.33866</td>\n",
              "      <td>118.67466</td>\n",
              "      <td>121.93633</td>\n",
              "      <td>118.00566</td>\n",
              "    </tr>\n",
              "  </tbody>\n",
              "</table>\n",
              "</div>\n",
              "      <button class=\"colab-df-convert\" onclick=\"convertToInteractive('df-142ac3a8-30db-4a7a-93b5-89b0c96387ce')\"\n",
              "              title=\"Convert this dataframe to an interactive table.\"\n",
              "              style=\"display:none;\">\n",
              "        \n",
              "  <svg xmlns=\"http://www.w3.org/2000/svg\" height=\"24px\"viewBox=\"0 0 24 24\"\n",
              "       width=\"24px\">\n",
              "    <path d=\"M0 0h24v24H0V0z\" fill=\"none\"/>\n",
              "    <path d=\"M18.56 5.44l.94 2.06.94-2.06 2.06-.94-2.06-.94-.94-2.06-.94 2.06-2.06.94zm-11 1L8.5 8.5l.94-2.06 2.06-.94-2.06-.94L8.5 2.5l-.94 2.06-2.06.94zm10 10l.94 2.06.94-2.06 2.06-.94-2.06-.94-.94-2.06-.94 2.06-2.06.94z\"/><path d=\"M17.41 7.96l-1.37-1.37c-.4-.4-.92-.59-1.43-.59-.52 0-1.04.2-1.43.59L10.3 9.45l-7.72 7.72c-.78.78-.78 2.05 0 2.83L4 21.41c.39.39.9.59 1.41.59.51 0 1.02-.2 1.41-.59l7.78-7.78 2.81-2.81c.8-.78.8-2.07 0-2.86zM5.41 20L4 18.59l7.72-7.72 1.47 1.35L5.41 20z\"/>\n",
              "  </svg>\n",
              "      </button>\n",
              "      \n",
              "  <style>\n",
              "    .colab-df-container {\n",
              "      display:flex;\n",
              "      flex-wrap:wrap;\n",
              "      gap: 12px;\n",
              "    }\n",
              "\n",
              "    .colab-df-convert {\n",
              "      background-color: #E8F0FE;\n",
              "      border: none;\n",
              "      border-radius: 50%;\n",
              "      cursor: pointer;\n",
              "      display: none;\n",
              "      fill: #1967D2;\n",
              "      height: 32px;\n",
              "      padding: 0 0 0 0;\n",
              "      width: 32px;\n",
              "    }\n",
              "\n",
              "    .colab-df-convert:hover {\n",
              "      background-color: #E2EBFA;\n",
              "      box-shadow: 0px 1px 2px rgba(60, 64, 67, 0.3), 0px 1px 3px 1px rgba(60, 64, 67, 0.15);\n",
              "      fill: #174EA6;\n",
              "    }\n",
              "\n",
              "    [theme=dark] .colab-df-convert {\n",
              "      background-color: #3B4455;\n",
              "      fill: #D2E3FC;\n",
              "    }\n",
              "\n",
              "    [theme=dark] .colab-df-convert:hover {\n",
              "      background-color: #434B5C;\n",
              "      box-shadow: 0px 1px 3px 1px rgba(0, 0, 0, 0.15);\n",
              "      filter: drop-shadow(0px 1px 2px rgba(0, 0, 0, 0.3));\n",
              "      fill: #FFFFFF;\n",
              "    }\n",
              "  </style>\n",
              "\n",
              "      <script>\n",
              "        const buttonEl =\n",
              "          document.querySelector('#df-142ac3a8-30db-4a7a-93b5-89b0c96387ce button.colab-df-convert');\n",
              "        buttonEl.style.display =\n",
              "          google.colab.kernel.accessAllowed ? 'block' : 'none';\n",
              "\n",
              "        async function convertToInteractive(key) {\n",
              "          const element = document.querySelector('#df-142ac3a8-30db-4a7a-93b5-89b0c96387ce');\n",
              "          const dataTable =\n",
              "            await google.colab.kernel.invokeFunction('convertToInteractive',\n",
              "                                                     [key], {});\n",
              "          if (!dataTable) return;\n",
              "\n",
              "          const docLinkHtml = 'Like what you see? Visit the ' +\n",
              "            '<a target=\"_blank\" href=https://colab.research.google.com/notebooks/data_table.ipynb>data table notebook</a>'\n",
              "            + ' to learn more about interactive tables.';\n",
              "          element.innerHTML = '';\n",
              "          dataTable['output_type'] = 'display_data';\n",
              "          await google.colab.output.renderOutput(dataTable, element);\n",
              "          const docLink = document.createElement('div');\n",
              "          docLink.innerHTML = docLinkHtml;\n",
              "          element.appendChild(docLink);\n",
              "        }\n",
              "      </script>\n",
              "    </div>\n",
              "  </div>\n",
              "  "
            ],
            "text/plain": [
              "           Currency  Closing Price (USD)  24h Open (USD)  24h High (USD)  \\\n",
              "Date                                                                       \n",
              "2013-10-01      BTC            123.65499       124.30466       124.75166   \n",
              "2013-10-02      BTC            125.45500       123.65499       125.75850   \n",
              "2013-10-03      BTC            108.58483       125.45500       125.66566   \n",
              "2013-10-04      BTC            118.67466       108.58483       118.67500   \n",
              "2013-10-05      BTC            121.33866       118.67466       121.93633   \n",
              "\n",
              "            24h Low (USD)  \n",
              "Date                       \n",
              "2013-10-01      122.56349  \n",
              "2013-10-02      123.63383  \n",
              "2013-10-03       83.32833  \n",
              "2013-10-04      107.05816  \n",
              "2013-10-05      118.00566  "
            ]
          },
          "execution_count": 2,
          "metadata": {},
          "output_type": "execute_result"
        }
      ],
      "source": [
        "# Import pandas \n",
        "import pandas as pd\n",
        "# read file csv and set datetime\n",
        "df = pd.read_csv(\"/content/Bitcoin_historical.csv\", \n",
        "                 parse_dates=[\"Date\"], #set datetime\n",
        "                 index_col=[\"Date\"]) #tell pandas column 1 is a datetime\n",
        "df.head()"
      ]
    },
    {
      "cell_type": "markdown",
      "metadata": {
        "id": "EQiDyqJaCdSS"
      },
      "source": [
        "Xem thông tin bảng"
      ]
    },
    {
      "cell_type": "code",
      "execution_count": null,
      "metadata": {
        "colab": {
          "base_uri": "https://localhost:8080/"
        },
        "id": "Z-YoeINjCzJ_",
        "outputId": "3e37fe4c-343a-458a-c0d0-44a04e7e1b5a"
      },
      "outputs": [
        {
          "name": "stdout",
          "output_type": "stream",
          "text": [
            "<class 'pandas.core.frame.DataFrame'>\n",
            "DatetimeIndex: 2787 entries, 2013-10-01 to 2021-05-18\n",
            "Data columns (total 5 columns):\n",
            " #   Column               Non-Null Count  Dtype  \n",
            "---  ------               --------------  -----  \n",
            " 0   Currency             2787 non-null   object \n",
            " 1   Closing Price (USD)  2787 non-null   float64\n",
            " 2   24h Open (USD)       2787 non-null   float64\n",
            " 3   24h High (USD)       2787 non-null   float64\n",
            " 4   24h Low (USD)        2787 non-null   float64\n",
            "dtypes: float64(4), object(1)\n",
            "memory usage: 130.6+ KB\n"
          ]
        }
      ],
      "source": [
        "df.info()"
      ]
    },
    {
      "cell_type": "code",
      "execution_count": null,
      "metadata": {
        "colab": {
          "base_uri": "https://localhost:8080/"
        },
        "id": "XP3cN0uvlxhi",
        "outputId": "8fc4a9b7-9bfa-4cc8-9705-5a0924ec22d1"
      },
      "outputs": [
        {
          "data": {
            "text/plain": [
              "2787"
            ]
          },
          "execution_count": 4,
          "metadata": {},
          "output_type": "execute_result"
        }
      ],
      "source": [
        "# How many samples?\n",
        "len(df)"
      ]
    },
    {
      "cell_type": "markdown",
      "metadata": {
        "id": "CHXape4olICL"
      },
      "source": [
        "## Đơn giản hóa dữ liệu\n",
        "Chỉ giữ lại thuộc tính Date và Closing Price\n",
        "\n",
        "Vì Closing Price là con số tiêu chuẩn được theo dõi bởi các nhà đầu tư, tổ chức tài chính và các tổ chức khác nhằm đưa ra quyết định đầu tư mua, bán Bitcoin."
      ]
    },
    {
      "cell_type": "code",
      "execution_count": null,
      "metadata": {
        "colab": {
          "base_uri": "https://localhost:8080/",
          "height": 237
        },
        "id": "QxoNCv2NCuLY",
        "outputId": "21ab66a9-7860-47ad-c9cf-933c1fb99f48"
      },
      "outputs": [
        {
          "data": {
            "text/html": [
              "\n",
              "  <div id=\"df-f3f834e6-e11a-484f-b07b-438528134c99\">\n",
              "    <div class=\"colab-df-container\">\n",
              "      <div>\n",
              "<style scoped>\n",
              "    .dataframe tbody tr th:only-of-type {\n",
              "        vertical-align: middle;\n",
              "    }\n",
              "\n",
              "    .dataframe tbody tr th {\n",
              "        vertical-align: top;\n",
              "    }\n",
              "\n",
              "    .dataframe thead th {\n",
              "        text-align: right;\n",
              "    }\n",
              "</style>\n",
              "<table border=\"1\" class=\"dataframe\">\n",
              "  <thead>\n",
              "    <tr style=\"text-align: right;\">\n",
              "      <th></th>\n",
              "      <th>Price</th>\n",
              "    </tr>\n",
              "    <tr>\n",
              "      <th>Date</th>\n",
              "      <th></th>\n",
              "    </tr>\n",
              "  </thead>\n",
              "  <tbody>\n",
              "    <tr>\n",
              "      <th>2013-10-01</th>\n",
              "      <td>123.65499</td>\n",
              "    </tr>\n",
              "    <tr>\n",
              "      <th>2013-10-02</th>\n",
              "      <td>125.45500</td>\n",
              "    </tr>\n",
              "    <tr>\n",
              "      <th>2013-10-03</th>\n",
              "      <td>108.58483</td>\n",
              "    </tr>\n",
              "    <tr>\n",
              "      <th>2013-10-04</th>\n",
              "      <td>118.67466</td>\n",
              "    </tr>\n",
              "    <tr>\n",
              "      <th>2013-10-05</th>\n",
              "      <td>121.33866</td>\n",
              "    </tr>\n",
              "  </tbody>\n",
              "</table>\n",
              "</div>\n",
              "      <button class=\"colab-df-convert\" onclick=\"convertToInteractive('df-f3f834e6-e11a-484f-b07b-438528134c99')\"\n",
              "              title=\"Convert this dataframe to an interactive table.\"\n",
              "              style=\"display:none;\">\n",
              "        \n",
              "  <svg xmlns=\"http://www.w3.org/2000/svg\" height=\"24px\"viewBox=\"0 0 24 24\"\n",
              "       width=\"24px\">\n",
              "    <path d=\"M0 0h24v24H0V0z\" fill=\"none\"/>\n",
              "    <path d=\"M18.56 5.44l.94 2.06.94-2.06 2.06-.94-2.06-.94-.94-2.06-.94 2.06-2.06.94zm-11 1L8.5 8.5l.94-2.06 2.06-.94-2.06-.94L8.5 2.5l-.94 2.06-2.06.94zm10 10l.94 2.06.94-2.06 2.06-.94-2.06-.94-.94-2.06-.94 2.06-2.06.94z\"/><path d=\"M17.41 7.96l-1.37-1.37c-.4-.4-.92-.59-1.43-.59-.52 0-1.04.2-1.43.59L10.3 9.45l-7.72 7.72c-.78.78-.78 2.05 0 2.83L4 21.41c.39.39.9.59 1.41.59.51 0 1.02-.2 1.41-.59l7.78-7.78 2.81-2.81c.8-.78.8-2.07 0-2.86zM5.41 20L4 18.59l7.72-7.72 1.47 1.35L5.41 20z\"/>\n",
              "  </svg>\n",
              "      </button>\n",
              "      \n",
              "  <style>\n",
              "    .colab-df-container {\n",
              "      display:flex;\n",
              "      flex-wrap:wrap;\n",
              "      gap: 12px;\n",
              "    }\n",
              "\n",
              "    .colab-df-convert {\n",
              "      background-color: #E8F0FE;\n",
              "      border: none;\n",
              "      border-radius: 50%;\n",
              "      cursor: pointer;\n",
              "      display: none;\n",
              "      fill: #1967D2;\n",
              "      height: 32px;\n",
              "      padding: 0 0 0 0;\n",
              "      width: 32px;\n",
              "    }\n",
              "\n",
              "    .colab-df-convert:hover {\n",
              "      background-color: #E2EBFA;\n",
              "      box-shadow: 0px 1px 2px rgba(60, 64, 67, 0.3), 0px 1px 3px 1px rgba(60, 64, 67, 0.15);\n",
              "      fill: #174EA6;\n",
              "    }\n",
              "\n",
              "    [theme=dark] .colab-df-convert {\n",
              "      background-color: #3B4455;\n",
              "      fill: #D2E3FC;\n",
              "    }\n",
              "\n",
              "    [theme=dark] .colab-df-convert:hover {\n",
              "      background-color: #434B5C;\n",
              "      box-shadow: 0px 1px 3px 1px rgba(0, 0, 0, 0.15);\n",
              "      filter: drop-shadow(0px 1px 2px rgba(0, 0, 0, 0.3));\n",
              "      fill: #FFFFFF;\n",
              "    }\n",
              "  </style>\n",
              "\n",
              "      <script>\n",
              "        const buttonEl =\n",
              "          document.querySelector('#df-f3f834e6-e11a-484f-b07b-438528134c99 button.colab-df-convert');\n",
              "        buttonEl.style.display =\n",
              "          google.colab.kernel.accessAllowed ? 'block' : 'none';\n",
              "\n",
              "        async function convertToInteractive(key) {\n",
              "          const element = document.querySelector('#df-f3f834e6-e11a-484f-b07b-438528134c99');\n",
              "          const dataTable =\n",
              "            await google.colab.kernel.invokeFunction('convertToInteractive',\n",
              "                                                     [key], {});\n",
              "          if (!dataTable) return;\n",
              "\n",
              "          const docLinkHtml = 'Like what you see? Visit the ' +\n",
              "            '<a target=\"_blank\" href=https://colab.research.google.com/notebooks/data_table.ipynb>data table notebook</a>'\n",
              "            + ' to learn more about interactive tables.';\n",
              "          element.innerHTML = '';\n",
              "          dataTable['output_type'] = 'display_data';\n",
              "          await google.colab.output.renderOutput(dataTable, element);\n",
              "          const docLink = document.createElement('div');\n",
              "          docLink.innerHTML = docLinkHtml;\n",
              "          element.appendChild(docLink);\n",
              "        }\n",
              "      </script>\n",
              "    </div>\n",
              "  </div>\n",
              "  "
            ],
            "text/plain": [
              "                Price\n",
              "Date                 \n",
              "2013-10-01  123.65499\n",
              "2013-10-02  125.45500\n",
              "2013-10-03  108.58483\n",
              "2013-10-04  118.67466\n",
              "2013-10-05  121.33866"
            ]
          },
          "execution_count": 5,
          "metadata": {},
          "output_type": "execute_result"
        }
      ],
      "source": [
        "#closing price for each day \n",
        "bitcoin_prices = pd.DataFrame(df[\"Closing Price (USD)\"]).rename(columns={\"Closing Price (USD)\": \"Price\"})\n",
        "bitcoin_prices.head()"
      ]
    },
    {
      "cell_type": "markdown",
      "metadata": {
        "id": "DxcEaU4KIyt5"
      },
      "source": [
        "Dữ liệu trên chỉ có 5 dòng, nhưng dữ liệu chúng ta có 8 năm \n",
        "\n",
        "Tạo biểu đồ biểu diễn giá Bitcoin từ năm 2013 đến 2021"
      ]
    },
    {
      "cell_type": "code",
      "execution_count": null,
      "metadata": {
        "colab": {
          "base_uri": "https://localhost:8080/",
          "height": 460
        },
        "id": "CfkhZhmCEyUe",
        "outputId": "fe6350e2-aebf-407b-ee29-a02350f82e6c"
      },
      "outputs": [
        {
          "data": {
            "image/png": "[encoded data removed]",
            "text/plain": [
              "<Figure size 720x504 with 1 Axes>"
            ]
          },
          "metadata": {
            "needs_background": "light"
          },
          "output_type": "display_data"
        }
      ],
      "source": [
        "import matplotlib.pyplot as plt\n",
        "bitcoin_prices.plot(figsize=(10, 7))\n",
        "plt.ylabel(\"BTC Price\")\n",
        "plt.title(\"Price of Bitcoin from 1 Oct 2013 to 18 May 2021\", fontsize=16)\n",
        "plt.legend(fontsize=14);"
      ]
    },
    {
      "cell_type": "markdown",
      "metadata": {
        "id": "NH3KAZkpJyKR"
      },
      "source": [
        "=> Giá Bitcoin trước năm 2017 rất thấp và không tăng qua nhiều năm, nếu mua Bitcoin vào thời điểm này đến gần 2018 sẽ thu được lợi nhuận cao. \n",
        "\n",
        "Nhưng nếu mua Bitcoin vào năm 2018 trở đi thì rủi ro cao do sự ảnh hưởng của đại dịch Covid gây ra nhiều biến động"
      ]
    },
    {
      "cell_type": "markdown",
      "metadata": {
        "id": "Sr7u5d8xMEFF"
      },
      "source": [
        "## Định dạng dữ liệu bằng Python\n",
        "Nhập dữ liệu bằng Python csv module\n",
        "\n",
        "Loại bỏ tiêu đề cột\n",
        "\n",
        "Định dạng ngày tháng dưới dạng `datetime` (không phải chuỗi)\n",
        "\n",
        "Định dạng dữ liệu *btc_price* theo kiểu `Float`\n",
        "\n"
      ]
    },
    {
      "cell_type": "code",
      "execution_count": null,
      "metadata": {
        "colab": {
          "base_uri": "https://localhost:8080/"
        },
        "id": "ga4CO7hu-Ntj",
        "outputId": "1e55cf7d-ac1f-48f0-b6ab-8497b1a74508"
      },
      "outputs": [
        {
          "data": {
            "text/plain": [
              "([datetime.datetime(2013, 10, 1, 0, 0),\n",
              "  datetime.datetime(2013, 10, 2, 0, 0),\n",
              "  datetime.datetime(2013, 10, 3, 0, 0),\n",
              "  datetime.datetime(2013, 10, 4, 0, 0),\n",
              "  datetime.datetime(2013, 10, 5, 0, 0),\n",
              "  datetime.datetime(2013, 10, 6, 0, 0),\n",
              "  datetime.datetime(2013, 10, 7, 0, 0),\n",
              "  datetime.datetime(2013, 10, 8, 0, 0),\n",
              "  datetime.datetime(2013, 10, 9, 0, 0),\n",
              "  datetime.datetime(2013, 10, 10, 0, 0)],\n",
              " [123.65499,\n",
              "  125.455,\n",
              "  108.58483,\n",
              "  118.67466,\n",
              "  121.33866,\n",
              "  120.65533,\n",
              "  121.795,\n",
              "  123.033,\n",
              "  124.049,\n",
              "  125.96116])"
            ]
          },
          "execution_count": 7,
          "metadata": {},
          "output_type": "execute_result"
        }
      ],
      "source": [
        "# Importing and formatting historical Bitcoin data with Python\n",
        "import csv\n",
        "from datetime import datetime\n",
        "\n",
        "timesteps = []\n",
        "btc_price = []\n",
        "with open(\"/content/Bitcoin_historical.csv\", \"r\") as f:\n",
        "  csv_reader = csv.reader(f, delimiter=\",\") # read in the target CSV\n",
        "  next(csv_reader) # skip first line (this gets rid of the column titles)\n",
        "  for line in csv_reader:\n",
        "    timesteps.append(datetime.strptime(line[1], \"%Y-%m-%d\")) # get the dates as dates (not strings), strptime = string parse time\n",
        "    btc_price.append(float(line[2])) # get the closing price as float\n",
        "\n",
        "# View first 10 of each\n",
        "timesteps[:10], btc_price[:10]"
      ]
    },
    {
      "cell_type": "code",
      "execution_count": null,
      "metadata": {
        "colab": {
          "base_uri": "https://localhost:8080/",
          "height": 460
        },
        "id": "CGBZrmJd-Wdf",
        "outputId": "99e70b66-460b-4157-83cf-ce1c88496741"
      },
      "outputs": [
        {
          "data": {
            "image/png": "[encoded data removed]",
            "text/plain": [
              "<Figure size 720x504 with 1 Axes>"
            ]
          },
          "metadata": {
            "needs_background": "light"
          },
          "output_type": "display_data"
        }
      ],
      "source": [
        "# Plot from CSV\n",
        "import matplotlib.pyplot as plt\n",
        "import numpy as np\n",
        "plt.figure(figsize=(10, 7))\n",
        "plt.plot(timesteps, btc_price)\n",
        "plt.title(\"Price of Bitcoin from 1 Oct 2013 to 18 May 2021\", fontsize=16)\n",
        "plt.xlabel(\"Date\")\n",
        "plt.ylabel(\"BTC Price\");"
      ]
    },
    {
      "cell_type": "markdown",
      "metadata": {
        "id": "ROpKyrIbiooW"
      },
      "source": [
        "# Tạo tập Train & Test cho dữ liệu timesteps\n",
        "Có thể tạo một tập train & test split bằng cách sử dụng một hàm như ` train_test_split()` nổi bật của `Scikit-Learn`\n",
        "\n",
        "Tuy nhiên đây là loại dữ liệu đơn biến vì vậy cần thử nghiệm một số cách chia dữ liệu khác nhau.\n",
        "\n",
        "Đầu tiên cho dữ liệu vào mảng `numpy[]`"
      ]
    },
    {
      "cell_type": "code",
      "execution_count": null,
      "metadata": {
        "colab": {
          "base_uri": "https://localhost:8080/"
        },
        "id": "pr4eHOS6-b5Z",
        "outputId": "fbc2c2c4-0683-4305-9735-6cbd41e92f8d"
      },
      "outputs": [
        {
          "data": {
            "text/plain": [
              "(array(['2013-10-01T00:00:00.000000000', '2013-10-02T00:00:00.000000000',\n",
              "        '2013-10-03T00:00:00.000000000', '2013-10-04T00:00:00.000000000',\n",
              "        '2013-10-05T00:00:00.000000000', '2013-10-06T00:00:00.000000000',\n",
              "        '2013-10-07T00:00:00.000000000', '2013-10-08T00:00:00.000000000',\n",
              "        '2013-10-09T00:00:00.000000000', '2013-10-10T00:00:00.000000000'],\n",
              "       dtype='datetime64[ns]'),\n",
              " array([123.65499, 125.455  , 108.58483, 118.67466, 121.33866, 120.65533,\n",
              "        121.795  , 123.033  , 124.049  , 125.96116]))"
            ]
          },
          "execution_count": 9,
          "metadata": {},
          "output_type": "execute_result"
        }
      ],
      "source": [
        "# Get bitcoin date array\n",
        "timesteps = bitcoin_prices.index.to_numpy()\n",
        "prices = bitcoin_prices[\"Price\"].to_numpy()\n",
        "\n",
        "timesteps[:10], prices[:10]"
      ]
    },
    {
      "cell_type": "markdown",
      "metadata": {
        "id": "ZmdT_gt3k3qM"
      },
      "source": [
        "## Chia tập Train & Test (sai)\n",
        "Chúng ta sẽ sử dụng `train_test_split ` từ `Scikit-Learn` để tạo ra các tập train và test\n",
        "\n",
        "Tất cả các tập dữ liệu sẽ được chia ngẫu nhiên theo tỉ lệ 80:20"
      ]
    },
    {
      "cell_type": "code",
      "execution_count": null,
      "metadata": {
        "colab": {
          "base_uri": "https://localhost:8080/"
        },
        "id": "Us0MpzDn-cNJ",
        "outputId": "e6d71ff8-3692-4047-f193-009469d46511"
      },
      "outputs": [
        {
          "data": {
            "text/plain": [
              "((2229,), (558,), (2229,), (558,))"
            ]
          },
          "execution_count": 10,
          "metadata": {},
          "output_type": "execute_result"
        }
      ],
      "source": [
        "# Wrong way to make train/test sets for time series\n",
        "from sklearn.model_selection import train_test_split \n",
        "\n",
        "X_train, X_test, y_train, y_test = train_test_split(timesteps, # dates\n",
        "                                                    prices, # prices\n",
        "                                                    test_size=0.2,\n",
        "                                                    random_state=42)\n",
        "X_train.shape, X_test.shape, y_train.shape, y_test.shape "
      ]
    },
    {
      "cell_type": "code",
      "execution_count": null,
      "metadata": {
        "colab": {
          "base_uri": "https://localhost:8080/"
        },
        "id": "itgAwccU-cax",
        "outputId": "aff351fc-bfa2-45a3-9868-528d18017938"
      },
      "outputs": [
        {
          "data": {
            "image/png": "[encoded data removed]",
            "text/plain": [
              "<Figure size 720x504 with 1 Axes>"
            ]
          },
          "metadata": {
            "needs_background": "light"
          },
          "output_type": "display_data"
        }
      ],
      "source": [
        "# Let's plot wrong train and test splits\n",
        "plt.figure(figsize=(10, 7))\n",
        "plt.scatter(X_train, y_train, s=5, label=\"Train data\")\n",
        "plt.scatter(X_test, y_test, s=5, label=\"Test data\")\n",
        "plt.xlabel(\"Date\")\n",
        "plt.ylabel(\"BTC Price\")\n",
        "plt.legend(fontsize=14)\n",
        "plt.show();"
      ]
    },
    {
      "cell_type": "markdown",
      "metadata": {
        "id": "Z-jtGMwfokPT"
      },
      "source": [
        "=> Biểu đồ đã cho thấy cách chia tập Train & Test này là sai\n",
        "\n",
        "Chúng ta đang dự đoán giá Bitcoin trong tương lai, như vậy tập *Train* là giá Bitcoin trong quá khứ và tập *Test* là giá Bitcoin trong tương lai.\n",
        "\n",
        "Nhưng biểu theo biểu đồ dữ liệu tập Test nằm rải rác khắp tập Train, điều này thật phi lý vì đây là dữ liệu chuỗi thời gian"
      ]
    },
    {
      "cell_type": "markdown",
      "metadata": {
        "id": "crCKX2Cfp7hR"
      },
      "source": [
        "## Chia tập Train & Test (đúng)\n",
        "Để khắc phục tình trạng trên, ta chọn một điểm bất kỳ và chia dữ liệu một các tuần tự.\n",
        "\n",
        "Dữ liệu tập Test phải là dữ liệu từ tương lai khi so sánh với dữ liệu tập Train"
      ]
    },
    {
      "cell_type": "code",
      "execution_count": null,
      "metadata": {
        "colab": {
          "base_uri": "https://localhost:8080/"
        },
        "id": "sEh37aXs-zzE",
        "outputId": "2043f469-27d1-4ec2-83eb-c43187f6edf6"
      },
      "outputs": [
        {
          "data": {
            "text/plain": [
              "(2229, 558, 2229, 558)"
            ]
          },
          "execution_count": 12,
          "metadata": {},
          "output_type": "execute_result"
        }
      ],
      "source": [
        "# Create train and test splits the right way for time series data\n",
        "split_size = int(0.8 * len(prices)) # 80% train, 20% test\n",
        "\n",
        "# Create train data splits (everything before the split)\n",
        "X_train, y_train = timesteps[:split_size], prices[:split_size]\n",
        "\n",
        "# Create test data splits (everything after the split)\n",
        "X_test, y_test = timesteps[split_size:], prices[split_size:]\n",
        "\n",
        "len(X_train), len(X_test), len(y_train), len(y_test)"
      ]
    },
    {
      "cell_type": "code",
      "execution_count": null,
      "metadata": {
        "colab": {
          "base_uri": "https://localhost:8080/",
          "height": 442
        },
        "id": "ccZY74or-5e-",
        "outputId": "0111c1c4-6798-44ee-dd6d-efbc35eecd97"
      },
      "outputs": [
        {
          "data": {
            "image/png": "[encoded data removed]",
            "text/plain": [
              "<Figure size 720x504 with 1 Axes>"
            ]
          },
          "metadata": {
            "needs_background": "light"
          },
          "output_type": "display_data"
        }
      ],
      "source": [
        "# Plot correctly made splits\n",
        "plt.figure(figsize=(10, 7))\n",
        "plt.scatter(X_train, y_train, s=5, label=\"Train data\")\n",
        "plt.scatter(X_test, y_test, s=5, label=\"Test data\")\n",
        "plt.xlabel(\"Date\")\n",
        "plt.ylabel(\"BTC Price\")\n",
        "plt.legend(fontsize=14)\n",
        "plt.show();"
      ]
    },
    {
      "cell_type": "markdown",
      "metadata": {
        "id": "hInJvTWOr2QM"
      },
      "source": [
        "=> Đã rõ ràng hơn. Có thể chia dữ liệu theo các tỉ lệ khác, nhưng đây chỉ là thử nghiệm chứ không phải thực tế và số liệu này chỉ cung cấp một dấu hiệu về các hoạt động của mô hình đang xây dựng"
      ]
    },
    {
      "cell_type": "markdown",
      "metadata": {
        "id": "llX7G51as_KC"
      },
      "source": [
        "# Tạo một hàm vẽ đồ thị\n",
        "Tạo một hàm vẽ mà chúng ta có thể sử dụng lại sau này."
      ]
    },
    {
      "cell_type": "code",
      "execution_count": null,
      "metadata": {
        "id": "1Ei9Sgbe_BZZ"
      },
      "outputs": [],
      "source": [
        "# Create a function to plot time series data\n",
        "def plot_time_series(timesteps, values, format='.', start=0, end=None, label=None):\n",
        "  \"\"\"\n",
        "  Plots a timesteps (a series of points in time) against values (a series of values across timesteps).\n",
        "  \n",
        "  Parameters\n",
        "  ---------\n",
        "  timesteps : array of timesteps\n",
        "  values : array of values across time\n",
        "  format : style of plot, default \".\"\n",
        "  start : where to start the plot (setting a value will index from start of timesteps & values)\n",
        "  end : where to end the plot (setting a value will index from end of timesteps & values)\n",
        "  label : label to show on plot of values\n",
        "  \"\"\"\n",
        "  # Plot the series\n",
        "  plt.plot(timesteps[start:end], values[start:end], format, label=label)\n",
        "  plt.xlabel(\"Time\")\n",
        "  plt.ylabel(\"BTC Price\")\n",
        "  if label:\n",
        "    plt.legend(fontsize=14) # make label bigger\n",
        "  plt.grid(True)"
      ]
    },
    {
      "cell_type": "code",
      "execution_count": null,
      "metadata": {
        "colab": {
          "base_uri": "https://localhost:8080/"
        },
        "id": "lD4KlMSL_E6X",
        "outputId": "bce12cc5-a8fa-487b-ef2c-9226f8a4164c"
      },
      "outputs": [
        {
          "data": {
            "image/png": "[encoded data removed]",
            "text/plain": [
              "<Figure size 720x504 with 1 Axes>"
            ]
          },
          "metadata": {
            "needs_background": "light"
          },
          "output_type": "display_data"
        }
      ],
      "source": [
        "# Try out our plotting function\n",
        "plt.figure(figsize=(10, 7))\n",
        "plot_time_series(timesteps=X_train, values=y_train, label=\"Train data\")\n",
        "plot_time_series(timesteps=X_test, values=y_test, label=\"Test data\")"
      ]
    },
    {
      "cell_type": "markdown",
      "metadata": {
        "id": "nhT91Pw7FSJ6"
      },
      "source": [
        "# Thí nghiệm mô hình hóa\n",
        "Trước khi thử nghiệm mô hình ta cần biết 2 thuật ngữ là Horizon và Window\n",
        "\n",
        ">horizon = số timesteps dùng để dự đoán cho tương lai\n",
        "\n",
        ">window = số timesteps từ quá khứ để dự đoán cho horizon\n",
        "\n",
        "ví dụ: nếu chúng ta muốn dự đoán giá Bitcoin cho ngày mai (1 ngày trong tương lai) bằng cách sử dụng giá trị Bitcoin của tuần trước (7 ngày trong quá khứ), đường chân trời sẽ là 1 và cửa sổ sẽ là 7."
      ]
    },
    {
      "cell_type": "markdown",
      "metadata": {
        "id": "cwSpQQRl_dHb"
      },
      "source": [
        "Số thí nghiệm mô hình hóa\n",
        "\n",
        "| Model Number | Model Type | Horizon size | Window size | Extra data |\n",
        "| ----- | ----- | ----- | ----- | ----- |\n",
        "| 0 | Naïve model (baseline) | NA | NA | NA |\n",
        "| 1 | Dense model | 1 | 7 | NA |\n",
        "| 2 | LSTM | 1 | 7 | NA |\n",
        "| 3 | Same as 1 (but with turkey 🦃 data introduced) | 1 | 7 | NA |"
      ]
    },
    {
      "cell_type": "markdown",
      "metadata": {
        "id": "4yP3fy-RIbbX"
      },
      "source": [
        "## Module 0: Naïve forecast (baseline)\n",
        "Nó không yêu cầu đào tạo gì cả.\n",
        "\n",
        "Naïve forecast sử dụng giá trị timestep trước đó để dự đoán giá trị timestep tiếp theo.\n",
        "\n"
      ]
    },
    {
      "cell_type": "code",
      "execution_count": null,
      "metadata": {
        "colab": {
          "base_uri": "https://localhost:8080/"
        },
        "id": "nCKGUO4OVos9",
        "outputId": "96ca66eb-58bd-4f86-db67-8c7edb43f738"
      },
      "outputs": [
        {
          "data": {
            "text/plain": [
              "(array([9226.485821, 8794.358645, 8798.042055, 9081.186878, 8711.534339,\n",
              "        8760.892718, 8749.520591, 8656.970922, 8500.643558, 8469.260899]),\n",
              " array([57107.12067, 58788.20968, 58102.19143, 55715.54665, 56573.55547,\n",
              "        52147.82119, 49764.13208, 50032.69314, 47885.62525, 45604.61575]))"
            ]
          },
          "execution_count": 16,
          "metadata": {},
          "output_type": "execute_result"
        }
      ],
      "source": [
        "# Create a naïve forecast\n",
        "naive_forecast = y_test[:-1] # Naïve forecast = every value exclude the last value\n",
        "naive_forecast[:10], naive_forecast[-10:] # View first 10 and last 10 "
      ]
    },
    {
      "cell_type": "code",
      "execution_count": null,
      "metadata": {
        "colab": {
          "base_uri": "https://localhost:8080/",
          "height": 442
        },
        "id": "a0NLHXDhWDX-",
        "outputId": "41364f61-444e-4984-98f0-82de45c28147"
      },
      "outputs": [
        {
          "data": {
            "image/png": "[encoded data removed]",
            "text/plain": [
              "<Figure size 720x504 with 1 Axes>"
            ]
          },
          "metadata": {
            "needs_background": "light"
          },
          "output_type": "display_data"
        }
      ],
      "source": [
        "# Plot naive forecast\n",
        "plt.figure(figsize=(10, 7))\n",
        "plot_time_series(timesteps=X_train, values=y_train, label=\"Train data\")\n",
        "plot_time_series(timesteps=X_test, values=y_test, label=\"Test data\")\n",
        "plot_time_series(timesteps=X_test[1:], values=naive_forecast, format=\"-\", label=\"Naive forecast\");"
      ]
    },
    {
      "cell_type": "markdown",
      "metadata": {
        "id": "FWx3zFKSJuZD"
      },
      "source": [
        "Phóng to để nhìn rõ hơn"
      ]
    },
    {
      "cell_type": "code",
      "execution_count": null,
      "metadata": {
        "colab": {
          "base_uri": "https://localhost:8080/",
          "height": 442
        },
        "id": "dx0wUhtOW_VX",
        "outputId": "fa8278c4-976f-4349-e485-9bc2fb4344ab"
      },
      "outputs": [
        {
          "data": {
            "image/png": "[encoded data removed]",
            "text/plain": [
              "<Figure size 720x504 with 1 Axes>"
            ]
          },
          "metadata": {
            "needs_background": "light"
          },
          "output_type": "display_data"
        }
      ],
      "source": [
        "plt.figure(figsize=(10, 7))\n",
        "offset = 300 # offset the values by 300 timesteps \n",
        "plot_time_series(timesteps=X_test, values=y_test, start=offset, label=\"Test data\")\n",
        "plot_time_series(timesteps=X_test[1:], values=naive_forecast, format=\"-\", start=offset, label=\"Naive forecast\");"
      ]
    },
    {
      "cell_type": "markdown",
      "metadata": {
        "id": "ODy_lrLbJ3Ox"
      },
      "source": [
        "=> Khi phóng to, ta thấy Naive forecast đến sau một chút so với dữ liệu thử nghiệm. Điều này đúng vì Naive forecast sử dụng giá trị timestep trước đó để dự đoán giá trị timestep tiếp theo."
      ]
    },
    {
      "cell_type": "markdown",
      "metadata": {
        "id": "iOXN08d3xl2J"
      },
      "source": [
        "## Đánh giá mô hình\n",
        "Mục tiêu sẽ đánh giá là: làm thế nào để các dự đoán (y_pred) của mô hình so sánh với các giá trị thực tế (y_true)\n",
        "\n",
        "Sử dụng một số chỉ số để đánh giá độ chính xác dự báo chuỗi thời gian của mô hình khác nhau\n",
        "\n",
        "Đối với tất cả các chỉ số sau, thấp hơn sẽ tốt hơn (ví dụ: MAE bằng 0 tốt hơn MAE 100).\n",
        "\n",
        "### Scale-dependent errors (Lỗi phụ thuộc vào quy mô)\n",
        "\n",
        "Đây là những số liệu có thể được sử dụng để so sánh các giá trị chuỗi thời gian và dự báo trên cùng một thang đo.\n",
        "\n",
        "| Metric | Details | Code |\n",
        "| ----- | ----- | ----- |\n",
        "| **MAE** |sai số trung bình tuyệt đối là một X khác với số tiền thực tế | [`tf.keras.metrics.mean_absolute_error()`](https://www.tensorflow.org/api_docs/python/tf/keras/metrics/MeanAbsoluteError) |\n",
        "| **RMSE** | lỗi bình phương trung bình gốc | `tf.sqrt(`[`tf.keras.metrics.mean_square_error()`](https://www.tensorflow.org/api_docs/python/tf/keras/metrics/RootMeanSquaredError)`)`|\n",
        "\n",
        "### Percentage errors (Tỷ lệ phần trăm lỗi)\n",
        "\n",
        "Lỗi phần trăm không có đơn vị, nghĩa là chúng có thể được sử dụng để so sánh dự báo trên các bộ dữ liệu khác nhau.\n",
        "\n",
        "| **Metric** | **Details** | **Code** |\n",
        "| ----- | ----- | ----- |\n",
        "| **MAPE**  |lỗi phần trăm tuyệt đối trung bình và sẽ không hoạt động nếu  `y=0`| [`tf.keras.metrics.mean_absolute_percentage_error()`](https://www.tensorflow.org/api_docs/python/tf/keras/losses/MAPE) | \n",
        "| **sMAPE** | đối xứng trung bình tỷ lệ phần trăm tuyệt đối| Triển khai tùy chỉnh |\n",
        "\n",
        "### Scaled errors (Lỗi được chia tỷ lệ)\n",
        "\n",
        "Lỗi được chia tỷ lệ là một giải pháp thay thế cho lỗi phần trăm khi so sánh hiệu suất dự báo trên các chuỗi thời gian khác nhau.\n",
        "\n",
        "| **Metric** | **Details** | **Code** |\n",
        "| ----- | ----- | ----- |\n",
        "| **MASE** | MASE = 1 cho naive forecast (hoặc gần bằng 1) Một dự báo hoạt động tốt hơn so vớinaive forecast sẽ nhận được <1 MASE. | See sktime's [`mase_loss()`](https://github.com/alan-turing-institute/sktime/blob/ee7a06843a44f4aaec7582d847e36073a9ab0566/sktime/performance_metrics/forecasting/_functions.py#L16) |\n",
        "\n",
        "Vì chúng ta sẽ đánh giá rất nhiều mô hình, nên viết một hàm để giúp chúng ta tính toán các chỉ số đánh giá trên của chúng.\n"
      ]
    },
    {
      "cell_type": "code",
      "execution_count": null,
      "metadata": {
        "id": "dhfd7tGBx_5A"
      },
      "outputs": [],
      "source": [
        "#get TensorFlow! \n",
        "import tensorflow as tf"
      ]
    },
    {
      "cell_type": "markdown",
      "metadata": {
        "id": "FIamCS3kAfi8"
      },
      "source": [
        "Và vì TensorFlow có phiên bản MASE được tạo sẵn nên ta tạo lớp lớp [`MeanAbsoluteScaledError`](https://www.sktime.org/en/stable/api_reference/auto_generated/sktime.performance_metrics.forecasting.MeanAbsoluteScaledError.html#sktime.performance_metrics.forecasting.MeanAbsoluteScaledError) của [sktime](https://github.com/alan-turing-institute/sktime)   (Scikit-Learn for time series) tính toán MASE."
      ]
    },
    {
      "cell_type": "code",
      "execution_count": null,
      "metadata": {
        "id": "T1a1fkv6_V_K"
      },
      "outputs": [],
      "source": [
        "# MASE implemented courtesy of sktime\n",
        "def mean_absolute_scaled_error(y_true, y_pred):\n",
        "  \"\"\"\n",
        "  trien khai MASE (no seasonality)\n",
        "  \"\"\"\n",
        "  mae = tf.reduce_mean(tf.abs(y_true - y_pred))\n",
        "\n",
        "  # Find MAE of naive forecast (no seasonality)\n",
        "  mae_naive_no_season = tf.reduce_mean(tf.abs(y_true[1:] - y_true[:-1])) #seasonality is  1 day (change 1 day)\n",
        "\n",
        "  return mae / mae_naive_no_season"
      ]
    },
    {
      "cell_type": "markdown",
      "metadata": {
        "id": "uaEr231dCVUK"
      },
      "source": [
        "Chúng ta sẽ tạo hàm một cách chính xác, naive forecast sẽ đạt được MASE là 1 (hoặc rất gần với 1). Bất kỳ mô hình nào kém hơn naive forecast sẽ đạt được MASE là >1 và bất kỳ mô hình nào tốt hơn aive forecast sẽ đạt được MASE là <1.\n",
        "\n",
        "Tạo một hàm kết hợp các chỉ số:"
      ]
    },
    {
      "cell_type": "code",
      "execution_count": null,
      "metadata": {
        "id": "Cu9XyZ5v_qTh"
      },
      "outputs": [],
      "source": [
        "def evaluate_preds(y_true, y_pred):\n",
        "  # Make sure float32 (for metric calculations)\n",
        "  y_true = tf.cast(y_true, dtype=tf.float32)\n",
        "  y_pred = tf.cast(y_pred, dtype=tf.float32)\n",
        "\n",
        "  # Calculate various metrics\n",
        "  mae = tf.keras.metrics.mean_absolute_error(y_true, y_pred)\n",
        "  mse = tf.keras.metrics.mean_squared_error(y_true, y_pred) # puts and emphasis on outliers (all errors get squared)\n",
        "  rmse = tf.sqrt(mse)\n",
        "  mape = tf.keras.metrics.mean_absolute_percentage_error(y_true, y_pred)\n",
        "  mase = mean_absolute_scaled_error(y_true, y_pred)\n",
        "  \n",
        "  return {\"mae\": mae.numpy(),\n",
        "          \"mse\": mse.numpy(),\n",
        "          \"rmse\": rmse.numpy(),\n",
        "          \"mape\": mape.numpy(),\n",
        "          \"mase\": mase.numpy()}"
      ]
    },
    {
      "cell_type": "markdown",
      "metadata": {
        "id": "SGTA1OM8C5Dg"
      },
      "source": [
        "Kiểm tra chức năng với naive forecast"
      ]
    },
    {
      "cell_type": "code",
      "execution_count": null,
      "metadata": {
        "colab": {
          "base_uri": "https://localhost:8080/"
        },
        "id": "VfQu2zM3_trB",
        "outputId": "04b3343e-7683-4267-9c09-50656e92e81e"
      },
      "outputs": [
        {
          "data": {
            "text/plain": [
              "{'mae': 567.9802,\n",
              " 'mse': 1147547.0,\n",
              " 'rmse': 1071.2362,\n",
              " 'mape': 2.516525,\n",
              " 'mase': 0.99957}"
            ]
          },
          "execution_count": 22,
          "metadata": {},
          "output_type": "execute_result"
        }
      ],
      "source": [
        "naive_results = evaluate_preds(y_true=y_test[1:],\n",
        "                               y_pred=naive_forecast)\n",
        "naive_results"
      ]
    },
    {
      "cell_type": "markdown",
      "metadata": {
        "id": "NhR5iv11ilDl"
      },
      "source": [
        "Nhìn vào MAE của naive forecast, có vẻ như trung bình mỗi dự báo khác gần 567 đô la so với giá Bitcoin thực tế.\n",
        "\n",
        "Điều này so với giá trung bình của Bitcoin trong tập dữ liệu thử nghiệm như thế nào? ta tìm giá trung bình Bitcoin\n"
      ]
    },
    {
      "cell_type": "code",
      "execution_count": null,
      "metadata": {
        "colab": {
          "base_uri": "https://localhost:8080/"
        },
        "id": "26kXr9Rk_8-c",
        "outputId": "fa43e033-120a-420a-bb23-92688942d240"
      },
      "outputs": [
        {
          "data": {
            "text/plain": [
              "20056.632963623655"
            ]
          },
          "execution_count": 23,
          "metadata": {},
          "output_type": "execute_result"
        }
      ],
      "source": [
        "# Find average price of Bitcoin in test dataset\n",
        "tf.reduce_mean(y_test).numpy()"
      ]
    },
    {
      "cell_type": "markdown",
      "metadata": {
        "id": "QCBNm2pKjECX"
      },
      "source": [
        "=> Điều này có nghĩa là mỗi dự đoán trong naive forecast sẽ chênh lệch 567$.\n",
        "\n",
        "\n",
        "Chúng ta không thể biết được chênh lệch này có phải là mô hình tốt hay không?\n",
        "\n",
        "Vì vậy chúng ta sẽ sử dụng TensorFlow để xây dựng các mô hình deep learning nhằm xem xét độ chênh lệch có tốt không.\n"
      ]
    },
    {
      "cell_type": "markdown",
      "metadata": {
        "id": "byeSkQrxrS_R"
      },
      "source": [
        "## TensorFlow và deep learning\n",
        "### Xây dựng window và horizon\n",
        "Chúng ta sẽ bắt đầu với kích thước Horizon mặc định là 1 và kích thước Window là 7 (Ngẫu nhiên)"
      ]
    },
    {
      "cell_type": "code",
      "execution_count": null,
      "metadata": {
        "id": "LibzWQXM2ib-"
      },
      "outputs": [],
      "source": [
        "HORIZON = 1 # predict 1 step at a time\n",
        "WINDOW_SIZE = 7 # use a week worth of timesteps to predict the horizon"
      ]
    },
    {
      "cell_type": "markdown",
      "metadata": {
        "id": "QzEcG2xGvk21"
      },
      "source": [
        "Tạo một hàm để lấy mảng và gắn nhãn cho các giá trị horizon , window"
      ]
    },
    {
      "cell_type": "code",
      "execution_count": null,
      "metadata": {
        "id": "zV8pv5K_x81E"
      },
      "outputs": [],
      "source": [
        "# Create function to label windowed data\n",
        "def get_labelled_windows(x, horizon=1):\n",
        "  \"\"\"\n",
        "  Creates labels for windowed dataset.\n",
        " \n",
        "  E.g. if horizon=1 (default)\n",
        "  Input: [1, 2, 3, 4, 5, 6] -> Output: ([1, 2, 3, 4, 5], [6])\n",
        "  \"\"\"\n",
        "  return x[:, :-horizon], x[:, -horizon:]"
      ]
    },
    {
      "cell_type": "code",
      "execution_count": null,
      "metadata": {
        "colab": {
          "base_uri": "https://localhost:8080/"
        },
        "id": "ejJ9vCyKff8F",
        "outputId": "f0328f5f-513d-49b1-b572-926bc8360555"
      },
      "outputs": [
        {
          "name": "stdout",
          "output_type": "stream",
          "text": [
            "Window: [1 2 3 4 5 6 7] -> Label: 8\n"
          ]
        }
      ],
      "source": [
        "# Test out the window labelling function\n",
        "test_window, test_label = get_labelled_windows(tf.expand_dims(tf.range(8)+1, axis=0), horizon=HORIZON)\n",
        "print(f\"Window: {tf.squeeze(test_window).numpy()} -> Label: {tf.squeeze(test_label).numpy()}\")"
      ]
    },
    {
      "cell_type": "markdown",
      "metadata": {
        "id": "5ESqPNJR6hRs"
      },
      "source": [
        "Sử dụng [NumPy's array indexing](https://numpy.org/doc/stable/reference/arrays.indexing.html) để tạo mảng Window 2D. vd:\n",
        "```\n",
        "[[0, 1, 2, 3, 4, 5, 6, 7],\n",
        " [1, 2, 3, 4, 5, 6, 7, 8],\n",
        " [2, 3, 4, 5, 6, 7, 8, 9]]\n",
        "```\n",
        "và sử dụng hàm get_labelled_windows() để trả về Horizon tương ứng"
      ]
    },
    {
      "cell_type": "code",
      "execution_count": null,
      "metadata": {
        "id": "apea0wiJyCI6"
      },
      "outputs": [],
      "source": [
        "# Create function to view NumPy arrays as windows \n",
        "def make_windows(x, window_size=7, horizon=1):\n",
        "  \"\"\"\n",
        "  Turns a 1D array into a 2D array of sequential windows of window_size.\n",
        "  \"\"\"\n",
        "  # 1. Create a window of specific window_size (add the horizon on the end for later labelling)\n",
        "  window_step = np.expand_dims(np.arange(window_size+horizon), axis=0)\n",
        "  # print(f\"Window step:\\n {window_step}\")\n",
        "\n",
        "  # 2. Create a 2D array of multiple window steps (minus 1 to account for 0 indexing)\n",
        "  window_indexes = window_step + np.expand_dims(np.arange(len(x)-(window_size+horizon-1)), axis=0).T # create 2D array of windows of size window_size\n",
        "  # print(f\"Window indexes:\\n {window_indexes[:3], window_indexes[-3:], window_indexes.shape}\")\n",
        "\n",
        "  # 3. Index on the target array (time series) with 2D array of multiple window steps\n",
        "  windowed_array = x[window_indexes]\n",
        "\n",
        "  # 4. Get the labelled windows\n",
        "  windows, labels = get_labelled_windows(windowed_array, horizon=horizon)\n",
        "\n",
        "  return windows, labels"
      ]
    },
    {
      "cell_type": "markdown",
      "metadata": {
        "id": "iY5-K5Xv9_6F"
      },
      "source": [
        "Kiểm tra xem có bao nhiêu mảng 1D được thêm vào mảng 2D"
      ]
    },
    {
      "cell_type": "code",
      "execution_count": null,
      "metadata": {
        "colab": {
          "base_uri": "https://localhost:8080/"
        },
        "id": "u7Yc3V7fc1UG",
        "outputId": "22f3ee46-d6f9-4e69-d88e-309dc2189691"
      },
      "outputs": [
        {
          "data": {
            "text/plain": [
              "(2780, 2780)"
            ]
          },
          "execution_count": 28,
          "metadata": {},
          "output_type": "execute_result"
        }
      ],
      "source": [
        "full_windows, full_labels = make_windows(prices, window_size=WINDOW_SIZE, horizon=HORIZON)\n",
        "len(full_windows), len(full_labels)"
      ]
    },
    {
      "cell_type": "markdown",
      "metadata": {
        "id": "si8J84Sn-Oy7"
      },
      "source": [
        "Xem 3 cửa sổ đầu tiên"
      ]
    },
    {
      "cell_type": "code",
      "execution_count": null,
      "metadata": {
        "colab": {
          "base_uri": "https://localhost:8080/"
        },
        "id": "U1P-MT4CkYta",
        "outputId": "9d7a046a-568f-43fe-f47c-acb72869ff13"
      },
      "outputs": [
        {
          "name": "stdout",
          "output_type": "stream",
          "text": [
            "Window: [123.65499 125.455   108.58483 118.67466 121.33866 120.65533 121.795  ] -> Label: [123.033]\n",
            "Window: [125.455   108.58483 118.67466 121.33866 120.65533 121.795   123.033  ] -> Label: [124.049]\n",
            "Window: [108.58483 118.67466 121.33866 120.65533 121.795   123.033   124.049  ] -> Label: [125.96116]\n"
          ]
        }
      ],
      "source": [
        "# View the first 3 windows/labels\n",
        "for i in range(3):\n",
        "  print(f\"Window: {full_windows[i]} -> Label: {full_labels[i]}\")"
      ]
    },
    {
      "cell_type": "markdown",
      "metadata": {
        "id": "b1-Pot50-Z1m"
      },
      "source": [
        "Xem 3 cửa sổ cuối cùng"
      ]
    },
    {
      "cell_type": "code",
      "execution_count": null,
      "metadata": {
        "colab": {
          "base_uri": "https://localhost:8080/"
        },
        "id": "UCDtm6gskjRH",
        "outputId": "28953932-64f7-4f82-9192-7fda50b1a147"
      },
      "outputs": [
        {
          "name": "stdout",
          "output_type": "stream",
          "text": [
            "Window: [58788.20968 58102.19143 55715.54665 56573.55547 52147.82119 49764.13208\n",
            " 50032.69314] -> Label: [47885.62525]\n",
            "Window: [58102.19143 55715.54665 56573.55547 52147.82119 49764.13208 50032.69314\n",
            " 47885.62525] -> Label: [45604.61575]\n",
            "Window: [55715.54665 56573.55547 52147.82119 49764.13208 50032.69314 47885.62525\n",
            " 45604.61575] -> Label: [43144.47129]\n"
          ]
        }
      ],
      "source": [
        "# View the last 3 windows/labels\n",
        "for i in range(3):\n",
        "  print(f\"Window: {full_windows[i-3]} -> Label: {full_labels[i-3]}\")"
      ]
    },
    {
      "cell_type": "markdown",
      "metadata": {
        "id": "0nKEQaKj_MIW"
      },
      "source": [
        "### Chia tập train & test cho window\n",
        "Viết một hàm có đầy đủ các window và horizon label sau đó chia chúng vào tập train & test"
      ]
    },
    {
      "cell_type": "code",
      "execution_count": null,
      "metadata": {
        "id": "o_8BRgb8YtP3"
      },
      "outputs": [],
      "source": [
        "# Make the train/test splits\n",
        "def make_train_test_splits(windows, labels, test_split=0.2):\n",
        "  \"\"\"\n",
        "  Splits matching pairs of windows and labels into train and test splits.\n",
        "  \"\"\"\n",
        "  split_size = int(len(windows) * (1-test_split)) # this will default to 80% train/20% test\n",
        "  train_windows = windows[:split_size]\n",
        "  train_labels = labels[:split_size]\n",
        "  test_windows = windows[split_size:]\n",
        "  test_labels = labels[split_size:]\n",
        "  return train_windows, test_windows, train_labels, test_labels"
      ]
    },
    {
      "cell_type": "markdown",
      "metadata": {
        "id": "LFIQ9lNS_5ef"
      },
      "source": [
        "kiểm tra"
      ]
    },
    {
      "cell_type": "code",
      "execution_count": null,
      "metadata": {
        "colab": {
          "base_uri": "https://localhost:8080/"
        },
        "id": "z_xY8T7HEaoU",
        "outputId": "072bcaa7-a2a8-480f-dc6d-642261c5e476"
      },
      "outputs": [
        {
          "data": {
            "text/plain": [
              "(2224, 556, 2224, 556)"
            ]
          },
          "execution_count": 32,
          "metadata": {},
          "output_type": "execute_result"
        }
      ],
      "source": [
        "train_windows, test_windows, train_labels, test_labels = make_train_test_splits(full_windows, full_labels)\n",
        "len(train_windows), len(test_windows), len(train_labels), len(test_labels)"
      ]
    },
    {
      "cell_type": "markdown",
      "metadata": {
        "id": "0VCQwTE3_9K0"
      },
      "source": [
        "Kiểm tra tập train & test của 5 mẫu dữ liệu đầu"
      ]
    },
    {
      "cell_type": "code",
      "execution_count": null,
      "metadata": {
        "colab": {
          "base_uri": "https://localhost:8080/"
        },
        "id": "DDgyT7Gix1fH",
        "outputId": "bd8f62dd-9e4c-483b-c86b-8e92f83b4808"
      },
      "outputs": [
        {
          "data": {
            "text/plain": [
              "(array([[123.65499, 125.455  , 108.58483, 118.67466, 121.33866, 120.65533,\n",
              "         121.795  ],\n",
              "        [125.455  , 108.58483, 118.67466, 121.33866, 120.65533, 121.795  ,\n",
              "         123.033  ],\n",
              "        [108.58483, 118.67466, 121.33866, 120.65533, 121.795  , 123.033  ,\n",
              "         124.049  ],\n",
              "        [118.67466, 121.33866, 120.65533, 121.795  , 123.033  , 124.049  ,\n",
              "         125.96116],\n",
              "        [121.33866, 120.65533, 121.795  , 123.033  , 124.049  , 125.96116,\n",
              "         125.27966]]), array([[123.033  ],\n",
              "        [124.049  ],\n",
              "        [125.96116],\n",
              "        [125.27966],\n",
              "        [125.9275 ]]))"
            ]
          },
          "execution_count": 33,
          "metadata": {},
          "output_type": "execute_result"
        }
      ],
      "source": [
        "train_windows[:5], train_labels[:5]"
      ]
    },
    {
      "cell_type": "markdown",
      "metadata": {
        "id": "UKMl3eoOAXna"
      },
      "source": [
        "Kiểm tra xem độ dài của các mảng 1D window có bằng nhau không."
      ]
    },
    {
      "cell_type": "code",
      "execution_count": null,
      "metadata": {
        "colab": {
          "base_uri": "https://localhost:8080/"
        },
        "id": "TkF0HmvadHBB",
        "outputId": "7f95571c-f969-4bf2-e92c-9f5d0448eef2"
      },
      "outputs": [
        {
          "data": {
            "text/plain": [
              "True"
            ]
          },
          "execution_count": 34,
          "metadata": {},
          "output_type": "execute_result"
        }
      ],
      "source": [
        "# Check to see if same (accounting for horizon and window size)\n",
        "np.array_equal(np.squeeze(train_labels[:-HORIZON-1]), y_train[WINDOW_SIZE:])"
      ]
    },
    {
      "cell_type": "markdown",
      "metadata": {
        "id": "gNmaUU7VAoig"
      },
      "source": [
        "**Tạo một hàm callback ModelCheckpoint để tái cấu trúc khôi phục dữ liệu đảm bảo tất cả các mô hình thử nghiệm sử dụng dữ liệu giống nhau**\n",
        "\n",
        "\n",
        "Mô hình sẽ được lưu trong `model_experiments`"
      ]
    },
    {
      "cell_type": "code",
      "execution_count": null,
      "metadata": {
        "id": "Xh8i1f7rV_P2"
      },
      "outputs": [],
      "source": [
        "import os\n",
        "\n",
        "# Create a function to implement a ModelCheckpoint callback with a specific filename \n",
        "def create_model_checkpoint(model_name, save_path=\"model_experiments\"):\n",
        "  return tf.keras.callbacks.ModelCheckpoint(filepath=os.path.join(save_path, model_name), # create filepath to save model\n",
        "                                            verbose=0, # only output a limited amount of text\n",
        "                                            save_best_only=True) # save only the best model to file"
      ]
    },
    {
      "cell_type": "markdown",
      "metadata": {
        "id": "mEm6Pb-IBzCL"
      },
      "source": [
        "## Mô hình 1: Dense model (window = 7, horizon = 1)\n"
      ]
    },
    {
      "cell_type": "markdown",
      "metadata": {
        "id": "YvVtmLRdpcyH"
      },
      "source": [
        "Xây dựng mô hình Dense model:\n",
        "\n",
        "\n",
        "*   batch_size=128 kích thước lô phù hợp với dữ liệu lớn \n",
        "*   epochs=100\n",
        "\n",
        "\n",
        "*   tf.random.set_seed(42) sử dụng cho tất cả các mô hình để giữ liệu suất như nhau\n",
        "\n",
        "\n",
        "\n"
      ]
    },
    {
      "cell_type": "code",
      "execution_count": null,
      "metadata": {
        "colab": {
          "base_uri": "https://localhost:8080/"
        },
        "id": "5Gx5lrSald1z",
        "outputId": "76fa94c6-0360-4954-b177-cf23566b86fd"
      },
      "outputs": [
        {
          "name": "stdout",
          "output_type": "stream",
          "text": [
            "Epoch 1/100\n",
            "18/18 [==============================] - 3s 41ms/step - loss: 780.3455 - mae: 780.3455 - val_loss: 2279.6528 - val_mae: 2279.6528\n",
            "Epoch 2/100\n",
            "18/18 [==============================] - 0s 26ms/step - loss: 247.6756 - mae: 247.6756 - val_loss: 1005.9993 - val_mae: 1005.9993\n",
            "Epoch 3/100\n",
            "18/18 [==============================] - 0s 26ms/step - loss: 188.4116 - mae: 188.4116 - val_loss: 923.2862 - val_mae: 923.2861\n",
            "Epoch 4/100\n",
            "18/18 [==============================] - 0s 26ms/step - loss: 169.4340 - mae: 169.4340 - val_loss: 900.5872 - val_mae: 900.5872\n",
            "Epoch 5/100\n",
            "18/18 [==============================] - 0s 27ms/step - loss: 165.0894 - mae: 165.0894 - val_loss: 895.2237 - val_mae: 895.2237\n",
            "Epoch 6/100\n",
            "18/18 [==============================] - 0s 28ms/step - loss: 158.5210 - mae: 158.5210 - val_loss: 855.1984 - val_mae: 855.1984\n",
            "Epoch 7/100\n",
            "18/18 [==============================] - 0s 27ms/step - loss: 151.3566 - mae: 151.3566 - val_loss: 840.9166 - val_mae: 840.9166\n",
            "Epoch 8/100\n",
            "18/18 [==============================] - 0s 25ms/step - loss: 145.2560 - mae: 145.2560 - val_loss: 803.5956 - val_mae: 803.5956\n",
            "Epoch 9/100\n",
            "18/18 [==============================] - 0s 28ms/step - loss: 144.3546 - mae: 144.3546 - val_loss: 799.5454 - val_mae: 799.5454\n",
            "Epoch 10/100\n",
            "18/18 [==============================] - 0s 26ms/step - loss: 141.2943 - mae: 141.2943 - val_loss: 763.5010 - val_mae: 763.5010\n",
            "Epoch 11/100\n",
            "18/18 [==============================] - 0s 4ms/step - loss: 135.6595 - mae: 135.6595 - val_loss: 771.3356 - val_mae: 771.3356\n",
            "Epoch 12/100\n",
            "18/18 [==============================] - 0s 4ms/step - loss: 134.1700 - mae: 134.1700 - val_loss: 782.8079 - val_mae: 782.8079\n",
            "Epoch 13/100\n",
            "18/18 [==============================] - 0s 4ms/step - loss: 134.6015 - mae: 134.6015 - val_loss: 784.4449 - val_mae: 784.4449\n",
            "Epoch 14/100\n",
            "18/18 [==============================] - 0s 27ms/step - loss: 130.6127 - mae: 130.6127 - val_loss: 751.3234 - val_mae: 751.3233\n",
            "Epoch 15/100\n",
            "18/18 [==============================] - 0s 25ms/step - loss: 128.8347 - mae: 128.8347 - val_loss: 696.5756 - val_mae: 696.5756\n",
            "Epoch 16/100\n",
            "18/18 [==============================] - 0s 4ms/step - loss: 124.7739 - mae: 124.7739 - val_loss: 702.4698 - val_mae: 702.4698\n",
            "Epoch 17/100\n",
            "18/18 [==============================] - 0s 4ms/step - loss: 123.4474 - mae: 123.4474 - val_loss: 704.9239 - val_mae: 704.9239\n",
            "Epoch 18/100\n",
            "18/18 [==============================] - 0s 26ms/step - loss: 122.2105 - mae: 122.2105 - val_loss: 667.9724 - val_mae: 667.9724\n",
            "Epoch 19/100\n",
            "18/18 [==============================] - 0s 4ms/step - loss: 121.7263 - mae: 121.7263 - val_loss: 718.8796 - val_mae: 718.8796\n",
            "Epoch 20/100\n",
            "18/18 [==============================] - 1s 36ms/step - loss: 119.2420 - mae: 119.2420 - val_loss: 657.0666 - val_mae: 657.0666\n",
            "Epoch 21/100\n",
            "18/18 [==============================] - 0s 26ms/step - loss: 121.2275 - mae: 121.2275 - val_loss: 637.0331 - val_mae: 637.0331\n",
            "Epoch 22/100\n",
            "18/18 [==============================] - 0s 4ms/step - loss: 119.9544 - mae: 119.9544 - val_loss: 671.2487 - val_mae: 671.2487\n",
            "Epoch 23/100\n",
            "18/18 [==============================] - 0s 26ms/step - loss: 121.9248 - mae: 121.9248 - val_loss: 633.3591 - val_mae: 633.3591\n",
            "Epoch 24/100\n",
            "18/18 [==============================] - 0s 27ms/step - loss: 116.3665 - mae: 116.3665 - val_loss: 624.4852 - val_mae: 624.4852\n",
            "Epoch 25/100\n",
            "18/18 [==============================] - 0s 26ms/step - loss: 114.6816 - mae: 114.6816 - val_loss: 619.7570 - val_mae: 619.7570\n",
            "Epoch 26/100\n",
            "18/18 [==============================] - 0s 26ms/step - loss: 116.4455 - mae: 116.4455 - val_loss: 615.6364 - val_mae: 615.6364\n",
            "Epoch 27/100\n",
            "18/18 [==============================] - 0s 4ms/step - loss: 116.5868 - mae: 116.5868 - val_loss: 615.9629 - val_mae: 615.9629\n",
            "Epoch 28/100\n",
            "18/18 [==============================] - 0s 26ms/step - loss: 113.4691 - mae: 113.4691 - val_loss: 608.0921 - val_mae: 608.0921\n",
            "Epoch 29/100\n",
            "18/18 [==============================] - 0s 4ms/step - loss: 113.7598 - mae: 113.7598 - val_loss: 621.9305 - val_mae: 621.9305\n",
            "Epoch 30/100\n",
            "18/18 [==============================] - 0s 28ms/step - loss: 116.8613 - mae: 116.8613 - val_loss: 604.4056 - val_mae: 604.4056\n",
            "Epoch 31/100\n",
            "18/18 [==============================] - 0s 4ms/step - loss: 111.9375 - mae: 111.9375 - val_loss: 609.3882 - val_mae: 609.3882\n",
            "Epoch 32/100\n",
            "18/18 [==============================] - 0s 26ms/step - loss: 112.4175 - mae: 112.4175 - val_loss: 603.0588 - val_mae: 603.0588\n",
            "Epoch 33/100\n",
            "18/18 [==============================] - 0s 4ms/step - loss: 112.6697 - mae: 112.6697 - val_loss: 645.6973 - val_mae: 645.6973\n",
            "Epoch 34/100\n",
            "18/18 [==============================] - 0s 4ms/step - loss: 111.9867 - mae: 111.9867 - val_loss: 604.7634 - val_mae: 604.7634\n",
            "Epoch 35/100\n",
            "18/18 [==============================] - 0s 26ms/step - loss: 110.9451 - mae: 110.9451 - val_loss: 593.4648 - val_mae: 593.4648\n",
            "Epoch 36/100\n",
            "18/18 [==============================] - 0s 4ms/step - loss: 114.4816 - mae: 114.4816 - val_loss: 608.0074 - val_mae: 608.0074\n",
            "Epoch 37/100\n",
            "18/18 [==============================] - 0s 5ms/step - loss: 110.2016 - mae: 110.2016 - val_loss: 597.2308 - val_mae: 597.2308\n",
            "Epoch 38/100\n",
            "18/18 [==============================] - 0s 5ms/step - loss: 112.2372 - mae: 112.2372 - val_loss: 637.9798 - val_mae: 637.9798\n",
            "Epoch 39/100\n",
            "18/18 [==============================] - 0s 27ms/step - loss: 115.1289 - mae: 115.1289 - val_loss: 587.4680 - val_mae: 587.4680\n",
            "Epoch 40/100\n",
            "18/18 [==============================] - 0s 4ms/step - loss: 110.0854 - mae: 110.0854 - val_loss: 592.7117 - val_mae: 592.7117\n",
            "Epoch 41/100\n",
            "18/18 [==============================] - 0s 4ms/step - loss: 110.6344 - mae: 110.6344 - val_loss: 593.8997 - val_mae: 593.8997\n",
            "Epoch 42/100\n",
            "18/18 [==============================] - 0s 4ms/step - loss: 113.5762 - mae: 113.5762 - val_loss: 636.3674 - val_mae: 636.3674\n",
            "Epoch 43/100\n",
            "18/18 [==============================] - 0s 4ms/step - loss: 116.2285 - mae: 116.2285 - val_loss: 662.9263 - val_mae: 662.9263\n",
            "Epoch 44/100\n",
            "18/18 [==============================] - 0s 4ms/step - loss: 120.0192 - mae: 120.0192 - val_loss: 635.6360 - val_mae: 635.6360\n",
            "Epoch 45/100\n",
            "18/18 [==============================] - 0s 4ms/step - loss: 110.9675 - mae: 110.9675 - val_loss: 601.9926 - val_mae: 601.9926\n",
            "Epoch 46/100\n",
            "18/18 [==============================] - 0s 4ms/step - loss: 111.6012 - mae: 111.6012 - val_loss: 593.3531 - val_mae: 593.3531\n",
            "Epoch 47/100\n",
            "18/18 [==============================] - 0s 4ms/step - loss: 109.6161 - mae: 109.6161 - val_loss: 637.0011 - val_mae: 637.0011\n",
            "Epoch 48/100\n",
            "18/18 [==============================] - 0s 4ms/step - loss: 109.1368 - mae: 109.1368 - val_loss: 598.4197 - val_mae: 598.4197\n",
            "Epoch 49/100\n",
            "18/18 [==============================] - 0s 27ms/step - loss: 112.4355 - mae: 112.4355 - val_loss: 579.7042 - val_mae: 579.7042\n",
            "Epoch 50/100\n",
            "18/18 [==============================] - 0s 4ms/step - loss: 110.2108 - mae: 110.2108 - val_loss: 639.2327 - val_mae: 639.2327\n",
            "Epoch 51/100\n",
            "18/18 [==============================] - 0s 4ms/step - loss: 111.0958 - mae: 111.0958 - val_loss: 597.3571 - val_mae: 597.3571\n",
            "Epoch 52/100\n",
            "18/18 [==============================] - 0s 4ms/step - loss: 110.7351 - mae: 110.7351 - val_loss: 580.7227 - val_mae: 580.7227\n",
            "Epoch 53/100\n",
            "18/18 [==============================] - 0s 4ms/step - loss: 111.1785 - mae: 111.1785 - val_loss: 648.3585 - val_mae: 648.3585\n",
            "Epoch 54/100\n",
            "18/18 [==============================] - 0s 4ms/step - loss: 114.0831 - mae: 114.0831 - val_loss: 593.2006 - val_mae: 593.2006\n",
            "Epoch 55/100\n",
            "18/18 [==============================] - 0s 27ms/step - loss: 110.4910 - mae: 110.4910 - val_loss: 579.5067 - val_mae: 579.5067\n",
            "Epoch 56/100\n",
            "18/18 [==============================] - 0s 5ms/step - loss: 108.0488 - mae: 108.0488 - val_loss: 807.3853 - val_mae: 807.3853\n",
            "Epoch 57/100\n",
            "18/18 [==============================] - 0s 4ms/step - loss: 125.0614 - mae: 125.0614 - val_loss: 674.1658 - val_mae: 674.1658\n",
            "Epoch 58/100\n",
            "18/18 [==============================] - 0s 4ms/step - loss: 115.4340 - mae: 115.4340 - val_loss: 582.2697 - val_mae: 582.2697\n",
            "Epoch 59/100\n",
            "18/18 [==============================] - 0s 4ms/step - loss: 110.0881 - mae: 110.0881 - val_loss: 606.7640 - val_mae: 606.7640\n",
            "Epoch 60/100\n",
            "18/18 [==============================] - 0s 4ms/step - loss: 108.7156 - mae: 108.7156 - val_loss: 602.3099 - val_mae: 602.3099\n",
            "Epoch 61/100\n",
            "18/18 [==============================] - 0s 25ms/step - loss: 108.1525 - mae: 108.1525 - val_loss: 573.9990 - val_mae: 573.9990\n",
            "Epoch 62/100\n",
            "18/18 [==============================] - 0s 4ms/step - loss: 107.3726 - mae: 107.3726 - val_loss: 581.7015 - val_mae: 581.7015\n",
            "Epoch 63/100\n",
            "18/18 [==============================] - 0s 5ms/step - loss: 110.7667 - mae: 110.7667 - val_loss: 637.5243 - val_mae: 637.5243\n",
            "Epoch 64/100\n",
            "18/18 [==============================] - 0s 4ms/step - loss: 110.1539 - mae: 110.1539 - val_loss: 586.6598 - val_mae: 586.6598\n",
            "Epoch 65/100\n",
            "18/18 [==============================] - 0s 25ms/step - loss: 108.2325 - mae: 108.2325 - val_loss: 573.5618 - val_mae: 573.5618\n",
            "Epoch 66/100\n",
            "18/18 [==============================] - 0s 26ms/step - loss: 108.6826 - mae: 108.6826 - val_loss: 572.2206 - val_mae: 572.2206\n",
            "Epoch 67/100\n",
            "18/18 [==============================] - 0s 4ms/step - loss: 106.6371 - mae: 106.6371 - val_loss: 646.6359 - val_mae: 646.6359\n",
            "Epoch 68/100\n",
            "18/18 [==============================] - 0s 4ms/step - loss: 114.1603 - mae: 114.1603 - val_loss: 681.8572 - val_mae: 681.8572\n",
            "Epoch 69/100\n",
            "18/18 [==============================] - 0s 5ms/step - loss: 124.5514 - mae: 124.5514 - val_loss: 655.9892 - val_mae: 655.9892\n",
            "Epoch 70/100\n",
            "18/18 [==============================] - 0s 4ms/step - loss: 125.0234 - mae: 125.0234 - val_loss: 601.0039 - val_mae: 601.0039\n",
            "Epoch 71/100\n",
            "18/18 [==============================] - 0s 3ms/step - loss: 110.3652 - mae: 110.3652 - val_loss: 595.3957 - val_mae: 595.3957\n",
            "Epoch 72/100\n",
            "18/18 [==============================] - 0s 4ms/step - loss: 107.9285 - mae: 107.9285 - val_loss: 573.7084 - val_mae: 573.7084\n",
            "Epoch 73/100\n",
            "18/18 [==============================] - 0s 4ms/step - loss: 109.5085 - mae: 109.5085 - val_loss: 580.4183 - val_mae: 580.4183\n",
            "Epoch 74/100\n",
            "18/18 [==============================] - 0s 6ms/step - loss: 108.7380 - mae: 108.7380 - val_loss: 576.1216 - val_mae: 576.1216\n",
            "Epoch 75/100\n",
            "18/18 [==============================] - 0s 4ms/step - loss: 107.9404 - mae: 107.9404 - val_loss: 591.1470 - val_mae: 591.1470\n",
            "Epoch 76/100\n",
            "18/18 [==============================] - 0s 5ms/step - loss: 109.4232 - mae: 109.4232 - val_loss: 597.8611 - val_mae: 597.8611\n",
            "Epoch 77/100\n",
            "18/18 [==============================] - 1s 66ms/step - loss: 107.5879 - mae: 107.5879 - val_loss: 571.9301 - val_mae: 571.9301\n",
            "Epoch 78/100\n",
            "18/18 [==============================] - 0s 8ms/step - loss: 108.1598 - mae: 108.1598 - val_loss: 575.2387 - val_mae: 575.2387\n",
            "Epoch 79/100\n",
            "18/18 [==============================] - 0s 8ms/step - loss: 107.9175 - mae: 107.9175 - val_loss: 617.3083 - val_mae: 617.3083\n",
            "Epoch 80/100\n",
            "18/18 [==============================] - 0s 13ms/step - loss: 108.9510 - mae: 108.9510 - val_loss: 583.4841 - val_mae: 583.4841\n",
            "Epoch 81/100\n",
            "18/18 [==============================] - 1s 72ms/step - loss: 106.0505 - mae: 106.0505 - val_loss: 570.0803 - val_mae: 570.0803\n",
            "Epoch 82/100\n",
            "18/18 [==============================] - 0s 8ms/step - loss: 115.6827 - mae: 115.6827 - val_loss: 575.7388 - val_mae: 575.7388\n",
            "Epoch 83/100\n",
            "18/18 [==============================] - 0s 9ms/step - loss: 110.9379 - mae: 110.9379 - val_loss: 659.6579 - val_mae: 659.6579\n",
            "Epoch 84/100\n",
            "18/18 [==============================] - 0s 10ms/step - loss: 111.4836 - mae: 111.4836 - val_loss: 570.1957 - val_mae: 570.1957\n",
            "Epoch 85/100\n",
            "18/18 [==============================] - 0s 11ms/step - loss: 107.5949 - mae: 107.5949 - val_loss: 601.5938 - val_mae: 601.5938\n",
            "Epoch 86/100\n",
            "18/18 [==============================] - 0s 11ms/step - loss: 108.9425 - mae: 108.9425 - val_loss: 592.8101 - val_mae: 592.8101\n",
            "Epoch 87/100\n",
            "18/18 [==============================] - 0s 11ms/step - loss: 105.7717 - mae: 105.7717 - val_loss: 603.6174 - val_mae: 603.6174\n",
            "Epoch 88/100\n",
            "18/18 [==============================] - 1s 75ms/step - loss: 107.9217 - mae: 107.9217 - val_loss: 569.0499 - val_mae: 569.0499\n",
            "Epoch 89/100\n",
            "18/18 [==============================] - 0s 27ms/step - loss: 106.0344 - mae: 106.0344 - val_loss: 568.9510 - val_mae: 568.9510\n",
            "Epoch 90/100\n",
            "18/18 [==============================] - 0s 4ms/step - loss: 105.4977 - mae: 105.4977 - val_loss: 581.7678 - val_mae: 581.7678\n",
            "Epoch 91/100\n",
            "18/18 [==============================] - 0s 4ms/step - loss: 108.8468 - mae: 108.8468 - val_loss: 573.6025 - val_mae: 573.6025\n",
            "Epoch 92/100\n",
            "18/18 [==============================] - 0s 4ms/step - loss: 110.8884 - mae: 110.8884 - val_loss: 576.8243 - val_mae: 576.8243\n",
            "Epoch 93/100\n",
            "18/18 [==============================] - 0s 4ms/step - loss: 113.8781 - mae: 113.8781 - val_loss: 608.3022 - val_mae: 608.3022\n",
            "Epoch 94/100\n",
            "18/18 [==============================] - 0s 4ms/step - loss: 110.5763 - mae: 110.5763 - val_loss: 601.6042 - val_mae: 601.6042\n",
            "Epoch 95/100\n",
            "18/18 [==============================] - 0s 5ms/step - loss: 106.5906 - mae: 106.5906 - val_loss: 570.3651 - val_mae: 570.3651\n",
            "Epoch 96/100\n",
            "18/18 [==============================] - 0s 4ms/step - loss: 116.9515 - mae: 116.9515 - val_loss: 615.2584 - val_mae: 615.2584\n",
            "Epoch 97/100\n",
            "18/18 [==============================] - 0s 4ms/step - loss: 108.0739 - mae: 108.0739 - val_loss: 580.3076 - val_mae: 580.3076\n",
            "Epoch 98/100\n",
            "18/18 [==============================] - 0s 4ms/step - loss: 108.7102 - mae: 108.7102 - val_loss: 586.6510 - val_mae: 586.6510\n",
            "Epoch 99/100\n",
            "18/18 [==============================] - 0s 4ms/step - loss: 109.0488 - mae: 109.0488 - val_loss: 570.0628 - val_mae: 570.0628\n",
            "Epoch 100/100\n",
            "18/18 [==============================] - 0s 4ms/step - loss: 106.1845 - mae: 106.1845 - val_loss: 585.9758 - val_mae: 585.9758\n"
          ]
        },
        {
          "data": {
            "text/plain": [
              "<keras.callbacks.History at 0x7feea037d790>"
            ]
          },
          "execution_count": 36,
          "metadata": {},
          "output_type": "execute_result"
        }
      ],
      "source": [
        "import tensorflow as tf\n",
        "from tensorflow.keras import layers\n",
        "\n",
        "# Set random seed for as reproducible results as possible\n",
        "tf.random.set_seed(42)\n",
        "\n",
        "# Construct model\n",
        "model_1 = tf.keras.Sequential([\n",
        "  layers.Dense(128, activation=\"relu\"),\n",
        "  layers.Dense(HORIZON, activation=\"linear\") # linear activation is the same as having no activation                        \n",
        "], name=\"model_1_dense\") # give the model a name so we can save it\n",
        "\n",
        "# Compile model\n",
        "model_1.compile(loss=\"mae\",\n",
        "                optimizer=tf.keras.optimizers.Adam(),\n",
        "                metrics=[\"mae\"]) # we don't necessarily need this when the loss function is already MAE\n",
        "\n",
        "# Fit model\n",
        "model_1.fit(x=train_windows, # train windows of 7 timesteps of Bitcoin prices\n",
        "            y=train_labels, # horizon value of 1 (using the previous 7 timesteps to predict next day)\n",
        "            epochs=100,\n",
        "            verbose=1,\n",
        "            batch_size=128,\n",
        "            validation_data=(test_windows, test_labels),\n",
        "            callbacks=[create_model_checkpoint(model_name=model_1.name)]) # create ModelCheckpoint callback to save best model"
      ]
    },
    {
      "cell_type": "markdown",
      "metadata": {
        "id": "hJy53Wu3IZDa"
      },
      "source": [
        "Đánh giá mô hình trên dữ liệu thử nghiệm"
      ]
    },
    {
      "cell_type": "code",
      "execution_count": null,
      "metadata": {
        "colab": {
          "base_uri": "https://localhost:8080/"
        },
        "id": "N1DbcEZBY_Bt",
        "outputId": "539b6959-bc88-4516-8106-20c9ed322daa"
      },
      "outputs": [
        {
          "name": "stdout",
          "output_type": "stream",
          "text": [
            "18/18 [==============================] - 0s 2ms/step - loss: 585.9758 - mae: 585.9758\n"
          ]
        },
        {
          "data": {
            "text/plain": [
              "[585.9757690429688, 585.9757690429688]"
            ]
          },
          "execution_count": 37,
          "metadata": {},
          "output_type": "execute_result"
        }
      ],
      "source": [
        "# Evaluate model on test data\n",
        "model_1.evaluate(test_windows, test_labels)"
      ]
    },
    {
      "cell_type": "markdown",
      "metadata": {
        "id": "BsZvc6XdImVc"
      },
      "source": [
        "=> val_loss(dữ liệu hao hụt) tương tự như val_loss của  epoch 100\n",
        "\n",
        "Tiếp theo ta thử nghiệm với mô hình 1 đã được lưu trong `model_experiments`"
      ]
    },
    {
      "cell_type": "code",
      "execution_count": null,
      "metadata": {
        "colab": {
          "base_uri": "https://localhost:8080/"
        },
        "id": "FXey-AX-XZPK",
        "outputId": "0549c19f-abba-4db6-cfbe-6cadd59163d9"
      },
      "outputs": [
        {
          "name": "stdout",
          "output_type": "stream",
          "text": [
            "18/18 [==============================] - 0s 2ms/step - loss: 568.9510 - mae: 568.9510\n"
          ]
        },
        {
          "data": {
            "text/plain": [
              "[568.9510498046875, 568.9510498046875]"
            ]
          },
          "execution_count": 38,
          "metadata": {},
          "output_type": "execute_result"
        }
      ],
      "source": [
        "# Load in saved best performing model_1 and evaluate on test data\n",
        "model_1 = tf.keras.models.load_model(\"model_experiments/model_1_dense\")\n",
        "model_1.evaluate(test_windows, test_labels)"
      ]
    },
    {
      "cell_type": "markdown",
      "metadata": {
        "id": "tkvSlNzbW5tm"
      },
      "source": [
        "=> ta thấy sử dụng dữ liệu ban đầu đem lại hiệu suất tốt hơn\n",
        "\n",
        "Tiếp theo, để chạy thử nghiệm nhiều mô hình ta tạo hàm dự đoán bằng mô hình:\n",
        "\n",
        "\n",
        "*   Sử dụng mô hình\n",
        "*   Lấy dữ liệu Train\n",
        "\n",
        "\n",
        "*   Dự đoán `input_data`\n",
        "*   Trả về dự đoán\n",
        "\n",
        "\n",
        "\n"
      ]
    },
    {
      "cell_type": "code",
      "execution_count": null,
      "metadata": {
        "id": "hZrExWzyh3ur"
      },
      "outputs": [],
      "source": [
        "def make_preds(model, input_data):\n",
        "  \"\"\"\n",
        "  Uses model to make predictions on input_data.\n",
        "\n",
        "  Parameters\n",
        "  ----------\n",
        "  model: trained model \n",
        "  input_data: windowed input data (same kind of data model was trained on)\n",
        "\n",
        "  Returns model predictions on input_data.\n",
        "  \"\"\"\n",
        "  forecast = model.predict(input_data)\n",
        "  return tf.squeeze(forecast) # return 1D array of predictions"
      ]
    },
    {
      "cell_type": "markdown",
      "metadata": {
        "id": "J8XXqP2nalrO"
      },
      "source": [
        "Thử đưa ra dự đoán bằng cách sử dụng `model_1` trên tập dữ liệu thử nghiệm và xem kết quả 10 dòng đầu tiên"
      ]
    },
    {
      "cell_type": "code",
      "execution_count": null,
      "metadata": {
        "colab": {
          "base_uri": "https://localhost:8080/"
        },
        "id": "u1aAKQp6vapw",
        "outputId": "c3701f27-f77f-407c-da1a-fc07fcdb9367"
      },
      "outputs": [
        {
          "name": "stdout",
          "output_type": "stream",
          "text": [
            "18/18 [==============================] - 0s 1ms/step\n"
          ]
        },
        {
          "data": {
            "text/plain": [
              "(556, <tf.Tensor: shape=(10,), dtype=float32, numpy=\n",
              " array([8861.71 , 8769.887, 9015.711, 8795.519, 8723.811, 8730.111,\n",
              "        8691.952, 8502.054, 8460.961, 8516.548], dtype=float32)>)"
            ]
          },
          "execution_count": 40,
          "metadata": {},
          "output_type": "execute_result"
        }
      ],
      "source": [
        "# Make predictions using model_1 on the test dataset and view the results\n",
        "model_1_preds = make_preds(model_1, test_windows)\n",
        "len(model_1_preds), model_1_preds[:10]"
      ]
    },
    {
      "cell_type": "markdown",
      "metadata": {
        "id": "YX2DmqGbxs7a"
      },
      "source": [
        "chúng ta đã có một số giá trị dự đoán, hãy sử dụng evaluate_preds() mà chúng ta đã tạo trước đó để so sánh chúng"
      ]
    },
    {
      "cell_type": "code",
      "execution_count": null,
      "metadata": {
        "colab": {
          "base_uri": "https://localhost:8080/"
        },
        "id": "eHak7Jqd9aXv",
        "outputId": "c7cf499f-c803-433a-cb87-2cd2d2ecdd96"
      },
      "outputs": [
        {
          "data": {
            "text/plain": [
              "{'mae': 568.95105,\n",
              " 'mse': 1171743.8,\n",
              " 'rmse': 1082.4711,\n",
              " 'mape': 2.5448983,\n",
              " 'mase': 0.9994894}"
            ]
          },
          "execution_count": 41,
          "metadata": {},
          "output_type": "execute_result"
        }
      ],
      "source": [
        "# Evaluate preds\n",
        "model_1_results = evaluate_preds(y_true=tf.squeeze(test_labels), # reduce to right shape\n",
        "                                 y_pred=model_1_preds)\n",
        "model_1_results"
      ]
    },
    {
      "cell_type": "code",
      "execution_count": null,
      "metadata": {
        "colab": {
          "base_uri": "https://localhost:8080/"
        },
        "id": "5WePaRbqxTXL",
        "outputId": "2114b1a6-92b1-46b5-9c71-d3cad085818b"
      },
      "outputs": [
        {
          "data": {
            "text/plain": [
              "{'mae': 567.9802,\n",
              " 'mse': 1147547.0,\n",
              " 'rmse': 1071.2362,\n",
              " 'mape': 2.516525,\n",
              " 'mase': 0.99957}"
            ]
          },
          "execution_count": 42,
          "metadata": {},
          "output_type": "execute_result"
        }
      ],
      "source": [
        "naive_results"
      ]
    },
    {
      "cell_type": "markdown",
      "metadata": {
        "id": "79MBiHg42PNB"
      },
      "source": [
        "=> naïve model các chỉ số lỗi và chỉ số mase tốt hơn mô hình 1\n",
        "\n",
        "Điều đó cho thấy baseline đóng vai trò quan trọng trong bất kì dự án machine learning nào\n",
        "\n",
        "Ta vẽ biểu đồ cho mô hình 1 để hình dung rõ hơn"
      ]
    },
    {
      "cell_type": "code",
      "execution_count": null,
      "metadata": {
        "colab": {
          "base_uri": "https://localhost:8080/",
          "height": 442
        },
        "id": "Wgxoqg_tIhFJ",
        "outputId": "4c85cb5f-87bb-4ee7-f980-3cffba833cf2"
      },
      "outputs": [
        {
          "data": {
            "image/png": "[encoded data removed]",
            "text/plain": [
              "<Figure size 720x504 with 1 Axes>"
            ]
          },
          "metadata": {
            "needs_background": "light"
          },
          "output_type": "display_data"
        }
      ],
      "source": [
        "offset = 300\n",
        "plt.figure(figsize=(10, 7))\n",
        "# Account for the test_window offset and index into test_labels to ensure correct plotting\n",
        "plot_time_series(timesteps=X_test[-len(test_windows):], values=test_labels[:, 0], start=offset, label=\"Test_data\")\n",
        "plot_time_series(timesteps=X_test[-len(test_windows):], values=model_1_preds, start=offset, format=\"-\", label=\"model_1_preds\")"
      ]
    },
    {
      "cell_type": "markdown",
      "metadata": {
        "id": "pBbnrKrB6ucN"
      },
      "source": [
        "=> Tập test dự đoán khá tốt nó sát với mô hình. ta thử mô hình tiếp theo."
      ]
    },
    {
      "cell_type": "code",
      "execution_count": null,
      "metadata": {
        "colab": {
          "base_uri": "https://localhost:8080/",
          "height": 875
        },
        "id": "QA4EKseAVrYf",
        "outputId": "223de5b1-db48-4c44-93b0-eac9721c57fd"
      },
      "outputs": [
        {
          "data": {
            "image/png": "[encoded data removed]",
            "text/plain": [
              "<Figure size 720x1080 with 1 Axes>"
            ]
          },
          "metadata": {
            "needs_background": "light"
          },
          "output_type": "display_data"
        }
      ],
      "source": [
        "pd.DataFrame({\"naive\": naive_results[\"mae\"], \n",
        "              \"horizon_1_window_7\": model_1_results[\"mae\"]}, index=[\"mae\"]).plot(figsize=(10, 15), kind=\"bar\");                                                                 "
      ]
    },
    {
      "cell_type": "markdown",
      "metadata": {
        "id": "UI59A7gt8MqW"
      },
      "source": [
        "## Sửa chức năng đánh giá để hoạt động với horizon lớn hơn"
      ]
    },
    {
      "cell_type": "code",
      "execution_count": null,
      "metadata": {
        "id": "ERkl26UFgSbz"
      },
      "outputs": [],
      "source": [
        "def evaluate_preds(y_true, y_pred):\n",
        "  # Make sure float32 (for metric calculations)\n",
        "  y_true = tf.cast(y_true, dtype=tf.float32)\n",
        "  y_pred = tf.cast(y_pred, dtype=tf.float32)\n",
        "\n",
        "  # Calculate various metrics\n",
        "  mae = tf.keras.metrics.mean_absolute_error(y_true, y_pred)\n",
        "  mse = tf.keras.metrics.mean_squared_error(y_true, y_pred)\n",
        "  rmse = tf.sqrt(mse)\n",
        "  mape = tf.keras.metrics.mean_absolute_percentage_error(y_true, y_pred)\n",
        "  mase = mean_absolute_scaled_error(y_true, y_pred)\n",
        "\n",
        "  # Account for different sized metrics (for longer horizons, reduce to single number)\n",
        "  if mae.ndim > 0: # if mae isn't already a scalar, reduce it to one by aggregating tensors to mean\n",
        "    mae = tf.reduce_mean(mae)\n",
        "    mse = tf.reduce_mean(mse)\n",
        "    rmse = tf.reduce_mean(rmse)\n",
        "    mape = tf.reduce_mean(mape)\n",
        "    mase = tf.reduce_mean(mase)\n",
        "\n",
        "  return {\"mae\": mae.numpy(),\n",
        "          \"mse\": mse.numpy(),\n",
        "          \"rmse\": rmse.numpy(),\n",
        "          \"mape\": mape.numpy(),\n",
        "          \"mase\": mase.numpy()}"
      ]
    },
    {
      "cell_type": "markdown",
      "metadata": {
        "id": "8ZwIT7_K_U8q"
      },
      "source": [
        "## Định hình dữ liệu \n",
        "Định hình dữ liệu tất cả các train window sử dụng `tf.keras.layers.Lamdba ` để đảm bảo mô hình tiếp theo hoạt động tốt"
      ]
    },
    {
      "cell_type": "code",
      "execution_count": null,
      "metadata": {
        "colab": {
          "base_uri": "https://localhost:8080/"
        },
        "id": "npzkDuo7BVwg",
        "outputId": "a832ed32-c8a0-4fd3-8591-337565b435d1"
      },
      "outputs": [
        {
          "name": "stdout",
          "output_type": "stream",
          "text": [
            "Original shape: (7,)\n",
            "Expanded shape: (7, 1)\n",
            "Original values with expanded shape:\n",
            " [[123.65499]\n",
            " [125.455  ]\n",
            " [108.58483]\n",
            " [118.67466]\n",
            " [121.33866]\n",
            " [120.65533]\n",
            " [121.795  ]]\n"
          ]
        }
      ],
      "source": [
        "# Before we pass our data , we have to reshape it in order to make sure it works\n",
        "x = tf.constant(train_windows[0])\n",
        "expand_dims_layer = layers.Lambda(lambda x: tf.expand_dims(x, axis=1)) # add an extra dimension for timesteps\n",
        "print(f\"Original shape: {x.shape}\") # (WINDOW_SIZE)\n",
        "print(f\"Expanded shape: {expand_dims_layer(x).shape}\") # (WINDOW_SIZE, input_dim) \n",
        "print(f\"Original values with expanded shape:\\n {expand_dims_layer(x)}\")"
      ]
    },
    {
      "cell_type": "markdown",
      "metadata": {
        "id": "7ZdEByqv_5r5"
      },
      "source": [
        "## Mô hình 2: RNN(LSTM)\n",
        "Tạo một RNN hỗ trợ LSTM-cell để lập mô hình dữ liệu Bitcoin của chúng ta.\n",
        "\n",
        "Tạo lớp tf.keras.layers.LSTM() có một tensor với các kích thước [*batch, timesteps, feature*].\n",
        "\n",
        "Sử dụng lớp tf.keras.layers.Lambda() để điều chỉnh hình dạng của các tensor đầu vào của chúng ta thành layer LSTM."
      ]
    },
    {
      "cell_type": "code",
      "execution_count": null,
      "metadata": {
        "colab": {
          "base_uri": "https://localhost:8080/"
        },
        "id": "a6YFL_b-rZrt",
        "outputId": "16a00fca-fb2c-4cde-ea0f-9b2fb3ad5ee1"
      },
      "outputs": [
        {
          "name": "stderr",
          "output_type": "stream",
          "text": [
            "WARNING:tensorflow:Layer lstm will not use cuDNN kernels since it doesn't meet the criteria. It will use a generic GPU kernel as fallback when running on GPU.\n"
          ]
        },
        {
          "data": {
            "text/plain": [
              "<keras.callbacks.History at 0x7fee33f49af0>"
            ]
          },
          "execution_count": 47,
          "metadata": {},
          "output_type": "execute_result"
        }
      ],
      "source": [
        "tf.random.set_seed(42)\n",
        "\n",
        "# Let's build an LSTM model with the Functional API\n",
        "inputs = layers.Input(shape=(WINDOW_SIZE))\n",
        "x = layers.Lambda(lambda x: tf.expand_dims(x, axis=1))(inputs) # expand input dimension to be compatible with LSTM\n",
        "# print(x.shape)\n",
        "# x = layers.LSTM(128, activation=\"relu\", return_sequences=True)(x) # this layer will error if the inputs are not the right shape\n",
        "x = layers.LSTM(128, activation=\"relu\")(x) # using the tanh loss function results in a massive error\n",
        "# print(x.shape)\n",
        "# Add another optional dense layer (you could add more of these to see if they improve model performance)\n",
        "# x = layers.Dense(32, activation=\"relu\")(x)\n",
        "output = layers.Dense(HORIZON)(x)\n",
        "model_2 = tf.keras.Model(inputs=inputs, outputs=output, name=\"model_2_lstm\")\n",
        "\n",
        "# Compile model\n",
        "model_2.compile(loss=\"mae\",\n",
        "                optimizer=tf.keras.optimizers.Adam())\n",
        "\n",
        "# Seems when saving the model several warnings are appearing: https://github.com/tensorflow/tensorflow/issues/47554 \n",
        "model_2.fit(train_windows,\n",
        "            train_labels,\n",
        "            epochs=100,\n",
        "            verbose=0,\n",
        "            batch_size=128,\n",
        "            validation_data=(test_windows, test_labels),\n",
        "            callbacks=[create_model_checkpoint(model_name=model_2.name)])"
      ]
    },
    {
      "cell_type": "markdown",
      "metadata": {
        "id": "E095zjYpAkDK"
      },
      "source": [
        "Sử dụng dữ liệu thử nghiệm ban đầu và đánh giá trong phiên bản tốt nhất của mô hình 2"
      ]
    },
    {
      "cell_type": "code",
      "execution_count": null,
      "metadata": {
        "colab": {
          "base_uri": "https://localhost:8080/"
        },
        "id": "cOpHqmEtSsNw",
        "outputId": "ba3e1f0a-5263-4130-8672-3a07fba0ec8a"
      },
      "outputs": [
        {
          "name": "stderr",
          "output_type": "stream",
          "text": [
            "WARNING:tensorflow:Layer lstm will not use cuDNN kernels since it doesn't meet the criteria. It will use a generic GPU kernel as fallback when running on GPU.\n"
          ]
        },
        {
          "name": "stdout",
          "output_type": "stream",
          "text": [
            "18/18 [==============================] - 0s 2ms/step - loss: 598.6813\n"
          ]
        },
        {
          "data": {
            "text/plain": [
              "598.6813354492188"
            ]
          },
          "execution_count": 48,
          "metadata": {},
          "output_type": "execute_result"
        }
      ],
      "source": [
        "# Load in best version of model 2 and evaluate on the test data\n",
        "model_2 = tf.keras.models.load_model(\"model_experiments/model_2_lstm/\")\n",
        "model_2.evaluate(test_windows, test_labels)"
      ]
    },
    {
      "cell_type": "markdown",
      "metadata": {
        "id": "OpwXS5OgB_cZ"
      },
      "source": [
        "Dự đoán bằng mô hình LSTM hiển thị 10 dòng đầu"
      ]
    },
    {
      "cell_type": "code",
      "execution_count": null,
      "metadata": {
        "colab": {
          "base_uri": "https://localhost:8080/"
        },
        "id": "yfG11v_51UWa",
        "outputId": "ccb80cac-4e99-4bd6-a61c-11c3ac87f7d8"
      },
      "outputs": [
        {
          "name": "stdout",
          "output_type": "stream",
          "text": [
            "18/18 [==============================] - 0s 2ms/step\n"
          ]
        },
        {
          "data": {
            "text/plain": [
              "<tf.Tensor: shape=(10,), dtype=float32, numpy=\n",
              "array([8990.325, 8818.501, 8999.41 , 8839.997, 8732.248, 8782.134,\n",
              "       8740.724, 8544.819, 8509.087, 8535.617], dtype=float32)>"
            ]
          },
          "execution_count": 49,
          "metadata": {},
          "output_type": "execute_result"
        }
      ],
      "source": [
        "# Make predictions with our LSTM model\n",
        "model_2_preds = make_preds(model_2, test_windows)\n",
        "model_2_preds[:10]"
      ]
    },
    {
      "cell_type": "markdown",
      "metadata": {
        "id": "ij0taWr2CKhw"
      },
      "source": [
        "Đánh giá mô hình"
      ]
    },
    {
      "cell_type": "code",
      "execution_count": null,
      "metadata": {
        "colab": {
          "base_uri": "https://localhost:8080/"
        },
        "id": "sVv5Kg5N1axK",
        "outputId": "085a8ffd-dae4-4c71-9bf1-23fd7b26d01a"
      },
      "outputs": [
        {
          "data": {
            "text/plain": [
              "{'mae': 598.6813,\n",
              " 'mse': 1280250.8,\n",
              " 'rmse': 1131.4816,\n",
              " 'mape': 2.6928957,\n",
              " 'mase': 1.0517172}"
            ]
          },
          "execution_count": 50,
          "metadata": {},
          "output_type": "execute_result"
        }
      ],
      "source": [
        "# Evaluate model 2 preds\n",
        "model_2_results = evaluate_preds(y_true=tf.squeeze(test_labels),\n",
        "                                 y_pred=model_2_preds)\n",
        "model_2_results"
      ]
    },
    {
      "cell_type": "markdown",
      "metadata": {
        "id": "mUwFzJRkCscl"
      },
      "source": [
        "=> Các chỉ số sai số vẫn không tốt bằng naïve mode"
      ]
    },
    {
      "cell_type": "markdown",
      "metadata": {
        "id": "yEF13SCsoAoW"
      },
      "source": [
        "## Mô hình 3: Why forecasting is BS (the turkey problem 🦃)\n",
        "Turkey problem là một sự tương tự khi dữ liệu quan sát của bạn (dữ liệu lịch sử của bạn) không nắm bắt được một sự kiện trong tương lai bất ngờ không nằm trong dự báo và có thể dẫn bạn đến thất bại.\n",
        "\n",
        "Để làm như vậy, chúng ta sẽ tạo ra một điểm dữ liệu rất khó xảy ra về giá lịch sử của Bitcoin, giá giảm 100 lần trong một ngày.\n"
      ]
    },
    {
      "cell_type": "code",
      "execution_count": null,
      "metadata": {
        "id": "bnMw7Sz2EDB6"
      },
      "outputs": [],
      "source": [
        "# Let's introduce a Turkey problem to our BTC data (price BTC falls 100x in one day)\n",
        "btc_price_turkey = btc_price.copy()\n",
        "btc_price_turkey[-1] = btc_price_turkey[-1] / 100"
      ]
    },
    {
      "cell_type": "markdown",
      "metadata": {
        "id": "wugNdkU6japz"
      },
      "source": [
        "Xem 10 mức giá cuối cùng"
      ]
    },
    {
      "cell_type": "code",
      "execution_count": null,
      "metadata": {
        "colab": {
          "base_uri": "https://localhost:8080/"
        },
        "id": "RLiclI-REDD9",
        "outputId": "51b11ad9-e7ff-4807-eb4d-299bc7cb29e1"
      },
      "outputs": [
        {
          "data": {
            "text/plain": [
              "[58788.20968,\n",
              " 58102.19143,\n",
              " 55715.54665,\n",
              " 56573.55547,\n",
              " 52147.82119,\n",
              " 49764.13208,\n",
              " 50032.69314,\n",
              " 47885.62525,\n",
              " 45604.61575,\n",
              " 431.4447129]"
            ]
          },
          "execution_count": 52,
          "metadata": {},
          "output_type": "execute_result"
        }
      ],
      "source": [
        "# Manufacture an extra price on the end (to showcase the Turkey problem)\n",
        "btc_price_turkey[-10:]"
      ]
    },
    {
      "cell_type": "markdown",
      "metadata": {
        "id": "OlSj9MEmjpha"
      },
      "source": [
        "=> giá trị cuối cùng thấp hơn 100 lần so với giá trị thực tế (hãy nhớ rằng, đây không phải là một điểm dữ liệu thực sự, nó chỉ để minh họa ảnh hưởng của turkey problem).\n",
        "\n",
        "Bây giờ chúng ta đã có giá Bitcoin bao gồm một điểm dữ liệu turkey problem, hãy lấy các bước thời gian."
      ]
    },
    {
      "cell_type": "code",
      "execution_count": null,
      "metadata": {
        "colab": {
          "base_uri": "https://localhost:8080/"
        },
        "id": "qLIwXNAYEDHI",
        "outputId": "d3b50c2b-e28b-4a02-95c6-3286887fba2b"
      },
      "outputs": [
        {
          "data": {
            "text/plain": [
              "array(['2021-05-09T00:00:00.000000000', '2021-05-10T00:00:00.000000000',\n",
              "       '2021-05-11T00:00:00.000000000', '2021-05-12T00:00:00.000000000',\n",
              "       '2021-05-13T00:00:00.000000000', '2021-05-14T00:00:00.000000000',\n",
              "       '2021-05-15T00:00:00.000000000', '2021-05-16T00:00:00.000000000',\n",
              "       '2021-05-17T00:00:00.000000000', '2021-05-18T00:00:00.000000000'],\n",
              "      dtype='datetime64[ns]')"
            ]
          },
          "execution_count": 53,
          "metadata": {},
          "output_type": "execute_result"
        }
      ],
      "source": [
        "# Get the timesteps for the turkey problem \n",
        "btc_timesteps_turkey = np.array(bitcoin_prices.index)\n",
        "btc_timesteps_turkey[-10:]"
      ]
    },
    {
      "cell_type": "code",
      "execution_count": null,
      "metadata": {
        "colab": {
          "base_uri": "https://localhost:8080/",
          "height": 442
        },
        "id": "q-hYsI7fEDJx",
        "outputId": "546daac5-e1aa-4c7d-8c9f-04db6465edb1"
      },
      "outputs": [
        {
          "data": {
            "image/png": "[encoded data removed]",
            "text/plain": [
              "<Figure size 720x504 with 1 Axes>"
            ]
          },
          "metadata": {
            "needs_background": "light"
          },
          "output_type": "display_data"
        }
      ],
      "source": [
        "plt.figure(figsize=(10, 7))\n",
        "plot_time_series(timesteps=btc_timesteps_turkey, \n",
        "                 values=btc_price_turkey, \n",
        "                 format=\"-\", \n",
        "                 label=\"BTC Price + Turkey Problem\", \n",
        "                 start=2500)"
      ]
    },
    {
      "cell_type": "markdown",
      "metadata": {
        "id": "0V6fY37kkGj3"
      },
      "source": [
        "=> chúng ta chỉ thay đổi một điểm dữ liệu duy nhất trong toàn bộ tập dữ liệu. Nhưng kết quả giá Bitcoin đã xấu đi rất nhiều\n",
        "\n",
        "Trước khi chúng ta xây dựng một mô hình, hãy tạo một số bộ dữ liệu có cửa sổ với dữ liệu turkey của chúng ta."
      ]
    },
    {
      "cell_type": "code",
      "execution_count": null,
      "metadata": {
        "colab": {
          "base_uri": "https://localhost:8080/"
        },
        "id": "gkiQUGWvEm_j",
        "outputId": "6c3e8a64-ac11-4dca-d07c-735d2ead0337"
      },
      "outputs": [
        {
          "data": {
            "text/plain": [
              "(2224, 556, 2224, 556)"
            ]
          },
          "execution_count": 55,
          "metadata": {},
          "output_type": "execute_result"
        }
      ],
      "source": [
        "# Create train and test sets for turkey problem data\n",
        "full_windows, full_labels = make_windows(np.array(btc_price_turkey), window_size=WINDOW_SIZE, horizon=HORIZON)\n",
        "len(full_windows), len(full_labels)\n",
        "\n",
        "X_train, X_test, y_train, y_test = make_train_test_splits(full_windows, full_labels)\n",
        "len(X_train), len(X_test), len(y_train), len(y_test)"
      ]
    },
    {
      "cell_type": "markdown",
      "metadata": {
        "id": "KNPqstesko-8"
      },
      "source": [
        "### Xây dựng mô hình turkey (mô hình dự đoán trên dữ liệu turkey problem)\n",
        "\n",
        "Với dữ liệu cập nhật của chúng tôi, chúng tôi chỉ thay đổi 1 giá trị.\n",
        "\n",
        "Để giữ cho mọi thứ có thể so sánh với các mô hình trước đó, chúng tôi sẽ tạo một `turkey_model` là bản sao của `model_1`(cùng một kiến trúc, nhưng dữ liệu khác nhau). \n",
        "\n",
        "Bằng cách đó, khi chúng tôi đánh giá turkey_model chúng tôi có thể so sánh kết quả của nó với model_1_results và xem một điểm dữ liệu có thể ảnh hưởng đến hiệu suất của mô hình đến mức nào.\n"
      ]
    },
    {
      "cell_type": "code",
      "execution_count": null,
      "metadata": {
        "colab": {
          "base_uri": "https://localhost:8080/"
        },
        "id": "CyMMD6CdEnC9",
        "outputId": "a9837e5e-f216-4e75-f724-a040709d69f2"
      },
      "outputs": [
        {
          "data": {
            "text/plain": [
              "<keras.callbacks.History at 0x7feea0112610>"
            ]
          },
          "execution_count": 56,
          "metadata": {},
          "output_type": "execute_result"
        }
      ],
      "source": [
        "# Clone model 1 architecture for turkey model and fit the turkey model on the turkey data\n",
        "turkey_model = tf.keras.models.clone_model(model_1)\n",
        "turkey_model._name = \"Turkey_Model\"\n",
        "turkey_model.compile(loss=\"mae\",\n",
        "                     optimizer=tf.keras.optimizers.Adam())\n",
        "turkey_model.fit(X_train, y_train,\n",
        "                 epochs=100,\n",
        "                 verbose=0,\n",
        "                 validation_data=(X_test, y_test),\n",
        "                 callbacks=[create_model_checkpoint(turkey_model.name)])"
      ]
    },
    {
      "cell_type": "markdown",
      "metadata": {
        "id": "oiZi91RblJaQ"
      },
      "source": [
        "Đánh giá mô hình 3 trên dữ liệu thử nghiệm"
      ]
    },
    {
      "cell_type": "code",
      "execution_count": null,
      "metadata": {
        "colab": {
          "base_uri": "https://localhost:8080/"
        },
        "id": "y-37x3khEnFf",
        "outputId": "b86596c2-a0a5-4e88-971f-b98d2463cefb"
      },
      "outputs": [
        {
          "name": "stdout",
          "output_type": "stream",
          "text": [
            "18/18 [==============================] - 0s 2ms/step - loss: 683.4467\n"
          ]
        },
        {
          "data": {
            "text/plain": [
              "683.4466552734375"
            ]
          },
          "execution_count": 57,
          "metadata": {},
          "output_type": "execute_result"
        }
      ],
      "source": [
        "# Evaluate turkey model on test data\n",
        "turkey_model.evaluate(X_test, y_test)"
      ]
    },
    {
      "cell_type": "markdown",
      "metadata": {
        "id": "T2E9EDthlWkO"
      },
      "source": [
        "Tải dữ liệu tốt nhất và đánh giá trên dữ liệu thử nghiệm"
      ]
    },
    {
      "cell_type": "code",
      "execution_count": null,
      "metadata": {
        "colab": {
          "base_uri": "https://localhost:8080/"
        },
        "id": "hfirNpfaEnH-",
        "outputId": "336c66ff-a6f5-4882-a1dd-2cc4a5b4bc48"
      },
      "outputs": [
        {
          "name": "stdout",
          "output_type": "stream",
          "text": [
            "18/18 [==============================] - 0s 2ms/step - loss: 639.3759\n"
          ]
        },
        {
          "data": {
            "text/plain": [
              "639.3758544921875"
            ]
          },
          "execution_count": 58,
          "metadata": {},
          "output_type": "execute_result"
        }
      ],
      "source": [
        "# Load best model and evaluate on test data\n",
        "turkey_model = tf.keras.models.load_model(\"model_experiments/Turkey_Model/\")\n",
        "turkey_model.evaluate(X_test, y_test)"
      ]
    },
    {
      "cell_type": "markdown",
      "metadata": {
        "id": "r0VrfhUUlhad"
      },
      "source": [
        "Bây giờ chúng ta hãy đưa ra một số dự đoán với mô hình của chúng ta và đánh giá chúng trên dữ liệu thử nghiệm."
      ]
    },
    {
      "cell_type": "code",
      "execution_count": null,
      "metadata": {
        "colab": {
          "base_uri": "https://localhost:8080/"
        },
        "id": "yWcMPSNLEnKf",
        "outputId": "f268245d-9da2-4eb9-d778-76627d1db248"
      },
      "outputs": [
        {
          "name": "stdout",
          "output_type": "stream",
          "text": [
            "18/18 [==============================] - 0s 1ms/step\n"
          ]
        },
        {
          "data": {
            "text/plain": [
              "<tf.Tensor: shape=(10,), dtype=float32, numpy=\n",
              "array([8840.579, 8794.085, 9051.76 , 8767.014, 8762.605, 8756.867,\n",
              "       8659.536, 8544.242, 8463.825, 8536.44 ], dtype=float32)>"
            ]
          },
          "execution_count": 59,
          "metadata": {},
          "output_type": "execute_result"
        }
      ],
      "source": [
        "# Make predictions with Turkey model\n",
        "turkey_preds = make_preds(turkey_model, X_test)\n",
        "turkey_preds[:10]"
      ]
    },
    {
      "cell_type": "code",
      "execution_count": null,
      "metadata": {
        "colab": {
          "base_uri": "https://localhost:8080/"
        },
        "id": "xybTUP73JuK_",
        "outputId": "1b0daf66-1c87-4751-c320-4f95a3f53a63"
      },
      "outputs": [
        {
          "data": {
            "text/plain": [
              "{'mae': 17128.19,\n",
              " 'mse': 614301200.0,\n",
              " 'rmse': 23711.215,\n",
              " 'mape': 121.35027,\n",
              " 'mase': 26.505926}"
            ]
          },
          "execution_count": 60,
          "metadata": {},
          "output_type": "execute_result"
        }
      ],
      "source": [
        "# Evaluate turkey preds\n",
        "turkey_results = evaluate_preds(y_true=y_test,\n",
        "                                y_pred=turkey_preds)\n",
        "turkey_results"
      ]
    },
    {
      "cell_type": "markdown",
      "metadata": {
        "id": "ZgnaNs8ml9-u"
      },
      "source": [
        "=> Chỉ thay đổi 1 giá trị mà chỉ số lỗi đã tăng chống mặt"
      ]
    },
    {
      "cell_type": "code",
      "execution_count": null,
      "metadata": {
        "colab": {
          "base_uri": "https://localhost:8080/"
        },
        "id": "L-gOJiGuJuOY",
        "outputId": "04f18b87-90cb-47df-edb0-87d67337e341"
      },
      "outputs": [
        {
          "data": {
            "text/plain": [
              "{'mae': 568.95105,\n",
              " 'mse': 1171743.8,\n",
              " 'rmse': 1082.4711,\n",
              " 'mape': 2.5448983,\n",
              " 'mase': 0.9994894}"
            ]
          },
          "execution_count": 61,
          "metadata": {},
          "output_type": "execute_result"
        }
      ],
      "source": [
        "model_1_results"
      ]
    },
    {
      "cell_type": "markdown",
      "metadata": {
        "id": "AC-hLnYhmL4a"
      },
      "source": [
        "=> Chỉ bằng cách thay đổi một giá trị, MAE turkey_model tăng gần gấp 30 lần so với model_1."
      ]
    },
    {
      "cell_type": "code",
      "execution_count": null,
      "metadata": {
        "colab": {
          "base_uri": "https://localhost:8080/",
          "height": 442
        },
        "id": "L6_MngpmJuRP",
        "outputId": "24405788-97c1-4eb3-ecce-28d5d3be58fe"
      },
      "outputs": [
        {
          "data": {
            "image/png": "[encoded data removed]",
            "text/plain": [
              "<Figure size 720x504 with 1 Axes>"
            ]
          },
          "metadata": {
            "needs_background": "light"
          },
          "output_type": "display_data"
        }
      ],
      "source": [
        "plt.figure(figsize=(10, 7))\n",
        "# plot_time_series(timesteps=btc_timesteps_turkey[:split_size], values=btc_price_turkey[:split_size], label=\"Train Data\")\n",
        "offset=300\n",
        "plot_time_series(timesteps=btc_timesteps_turkey[-len(X_test):], \n",
        "                 values=btc_price_turkey[-len(y_test):], \n",
        "                 format=\"-\", \n",
        "                 label=\"Turkey Test Data\", start=offset)\n",
        "plot_time_series(timesteps=btc_timesteps_turkey[-len(X_test):],\n",
        "                 values=turkey_preds, \n",
        "                 label=\"Turkey Preds\", \n",
        "                 start=offset);"
      ]
    },
    {
      "cell_type": "markdown",
      "metadata": {
        "id": "gZyW3K6gmaqc"
      },
      "source": [
        "Ta thấy mô hình không thể dự đoán được turkey problem vì việc giá giảm 100 lần là rất hiếm khi xảy ra.\n",
        "\n",
        "Tuy nhiên những sự kiện này vẫn có thể xảy ra bất ngờ và tác động lớn đến hiệu suất của dự đoán, dẫn đến hậu quả xấu"
      ]
    },
    {
      "cell_type": "markdown",
      "metadata": {
        "id": "_YQ-0f2jnf_p"
      },
      "source": [
        "### So sánh mô hình"
      ]
    },
    {
      "cell_type": "code",
      "execution_count": null,
      "metadata": {
        "colab": {
          "base_uri": "https://localhost:8080/",
          "height": 175
        },
        "id": "0fWHRHdBJuT2",
        "outputId": "cabe269a-098c-4255-d5b4-ca3e4f246037"
      },
      "outputs": [
        {
          "data": {
            "text/html": [
              "\n",
              "  <div id=\"df-2f9224d6-f80a-4c5a-a90e-18d0a04e4ac8\">\n",
              "    <div class=\"colab-df-container\">\n",
              "      <div>\n",
              "<style scoped>\n",
              "    .dataframe tbody tr th:only-of-type {\n",
              "        vertical-align: middle;\n",
              "    }\n",
              "\n",
              "    .dataframe tbody tr th {\n",
              "        vertical-align: top;\n",
              "    }\n",
              "\n",
              "    .dataframe thead th {\n",
              "        text-align: right;\n",
              "    }\n",
              "</style>\n",
              "<table border=\"1\" class=\"dataframe\">\n",
              "  <thead>\n",
              "    <tr style=\"text-align: right;\">\n",
              "      <th></th>\n",
              "      <th>mae</th>\n",
              "      <th>mse</th>\n",
              "      <th>rmse</th>\n",
              "      <th>mape</th>\n",
              "      <th>mase</th>\n",
              "    </tr>\n",
              "  </thead>\n",
              "  <tbody>\n",
              "    <tr>\n",
              "      <th>naive_model</th>\n",
              "      <td>567.980225</td>\n",
              "      <td>1.147547e+06</td>\n",
              "      <td>1071.236206</td>\n",
              "      <td>2.516525</td>\n",
              "      <td>0.999570</td>\n",
              "    </tr>\n",
              "    <tr>\n",
              "      <th>model_1_dense_w7_h1</th>\n",
              "      <td>568.951050</td>\n",
              "      <td>1.171744e+06</td>\n",
              "      <td>1082.471069</td>\n",
              "      <td>2.544898</td>\n",
              "      <td>0.999489</td>\n",
              "    </tr>\n",
              "    <tr>\n",
              "      <th>model_2_LSTM</th>\n",
              "      <td>598.681274</td>\n",
              "      <td>1.280251e+06</td>\n",
              "      <td>1131.481567</td>\n",
              "      <td>2.692896</td>\n",
              "      <td>1.051717</td>\n",
              "    </tr>\n",
              "    <tr>\n",
              "      <th>model_3_turkey</th>\n",
              "      <td>17128.189453</td>\n",
              "      <td>6.143012e+08</td>\n",
              "      <td>23711.214844</td>\n",
              "      <td>121.350273</td>\n",
              "      <td>26.505926</td>\n",
              "    </tr>\n",
              "  </tbody>\n",
              "</table>\n",
              "</div>\n",
              "      <button class=\"colab-df-convert\" onclick=\"convertToInteractive('df-2f9224d6-f80a-4c5a-a90e-18d0a04e4ac8')\"\n",
              "              title=\"Convert this dataframe to an interactive table.\"\n",
              "              style=\"display:none;\">\n",
              "        \n",
              "  <svg xmlns=\"http://www.w3.org/2000/svg\" height=\"24px\"viewBox=\"0 0 24 24\"\n",
              "       width=\"24px\">\n",
              "    <path d=\"M0 0h24v24H0V0z\" fill=\"none\"/>\n",
              "    <path d=\"M18.56 5.44l.94 2.06.94-2.06 2.06-.94-2.06-.94-.94-2.06-.94 2.06-2.06.94zm-11 1L8.5 8.5l.94-2.06 2.06-.94-2.06-.94L8.5 2.5l-.94 2.06-2.06.94zm10 10l.94 2.06.94-2.06 2.06-.94-2.06-.94-.94-2.06-.94 2.06-2.06.94z\"/><path d=\"M17.41 7.96l-1.37-1.37c-.4-.4-.92-.59-1.43-.59-.52 0-1.04.2-1.43.59L10.3 9.45l-7.72 7.72c-.78.78-.78 2.05 0 2.83L4 21.41c.39.39.9.59 1.41.59.51 0 1.02-.2 1.41-.59l7.78-7.78 2.81-2.81c.8-.78.8-2.07 0-2.86zM5.41 20L4 18.59l7.72-7.72 1.47 1.35L5.41 20z\"/>\n",
              "  </svg>\n",
              "      </button>\n",
              "      \n",
              "  <style>\n",
              "    .colab-df-container {\n",
              "      display:flex;\n",
              "      flex-wrap:wrap;\n",
              "      gap: 12px;\n",
              "    }\n",
              "\n",
              "    .colab-df-convert {\n",
              "      background-color: #E8F0FE;\n",
              "      border: none;\n",
              "      border-radius: 50%;\n",
              "      cursor: pointer;\n",
              "      display: none;\n",
              "      fill: #1967D2;\n",
              "      height: 32px;\n",
              "      padding: 0 0 0 0;\n",
              "      width: 32px;\n",
              "    }\n",
              "\n",
              "    .colab-df-convert:hover {\n",
              "      background-color: #E2EBFA;\n",
              "      box-shadow: 0px 1px 2px rgba(60, 64, 67, 0.3), 0px 1px 3px 1px rgba(60, 64, 67, 0.15);\n",
              "      fill: #174EA6;\n",
              "    }\n",
              "\n",
              "    [theme=dark] .colab-df-convert {\n",
              "      background-color: #3B4455;\n",
              "      fill: #D2E3FC;\n",
              "    }\n",
              "\n",
              "    [theme=dark] .colab-df-convert:hover {\n",
              "      background-color: #434B5C;\n",
              "      box-shadow: 0px 1px 3px 1px rgba(0, 0, 0, 0.15);\n",
              "      filter: drop-shadow(0px 1px 2px rgba(0, 0, 0, 0.3));\n",
              "      fill: #FFFFFF;\n",
              "    }\n",
              "  </style>\n",
              "\n",
              "      <script>\n",
              "        const buttonEl =\n",
              "          document.querySelector('#df-2f9224d6-f80a-4c5a-a90e-18d0a04e4ac8 button.colab-df-convert');\n",
              "        buttonEl.style.display =\n",
              "          google.colab.kernel.accessAllowed ? 'block' : 'none';\n",
              "\n",
              "        async function convertToInteractive(key) {\n",
              "          const element = document.querySelector('#df-2f9224d6-f80a-4c5a-a90e-18d0a04e4ac8');\n",
              "          const dataTable =\n",
              "            await google.colab.kernel.invokeFunction('convertToInteractive',\n",
              "                                                     [key], {});\n",
              "          if (!dataTable) return;\n",
              "\n",
              "          const docLinkHtml = 'Like what you see? Visit the ' +\n",
              "            '<a target=\"_blank\" href=https://colab.research.google.com/notebooks/data_table.ipynb>data table notebook</a>'\n",
              "            + ' to learn more about interactive tables.';\n",
              "          element.innerHTML = '';\n",
              "          dataTable['output_type'] = 'display_data';\n",
              "          await google.colab.output.renderOutput(dataTable, element);\n",
              "          const docLink = document.createElement('div');\n",
              "          docLink.innerHTML = docLinkHtml;\n",
              "          element.appendChild(docLink);\n",
              "        }\n",
              "      </script>\n",
              "    </div>\n",
              "  </div>\n",
              "  "
            ],
            "text/plain": [
              "                              mae           mse          rmse        mape  \\\n",
              "naive_model            567.980225  1.147547e+06   1071.236206    2.516525   \n",
              "model_1_dense_w7_h1    568.951050  1.171744e+06   1082.471069    2.544898   \n",
              "model_2_LSTM           598.681274  1.280251e+06   1131.481567    2.692896   \n",
              "model_3_turkey       17128.189453  6.143012e+08  23711.214844  121.350273   \n",
              "\n",
              "                          mase  \n",
              "naive_model           0.999570  \n",
              "model_1_dense_w7_h1   0.999489  \n",
              "model_2_LSTM          1.051717  \n",
              "model_3_turkey       26.505926  "
            ]
          },
          "execution_count": 63,
          "metadata": {},
          "output_type": "execute_result"
        }
      ],
      "source": [
        "# Compare different model results (w = window, h = horizon, e.g. w=7 means a window size of 7)\n",
        "model_results = pd.DataFrame({\"naive_model\": naive_results,\n",
        "                              \"model_1_dense_w7_h1\": model_1_results,\n",
        "                              \"model_2_LSTM\": model_2_results,\n",
        "                              \"model_3_turkey\": turkey_results}).T\n",
        "model_results.head(10)"
      ]
    },
    {
      "cell_type": "code",
      "execution_count": null,
      "metadata": {
        "colab": {
          "base_uri": "https://localhost:8080/",
          "height": 533
        },
        "id": "ENY8VUrMJuWl",
        "outputId": "71c9e22f-af9f-4a6c-9510-bb7ed72bc3eb"
      },
      "outputs": [
        {
          "data": {
            "image/png": "[encoded data removed]",
            "text/plain": [
              "<Figure size 720x504 with 1 Axes>"
            ]
          },
          "metadata": {
            "needs_background": "light"
          },
          "output_type": "display_data"
        }
      ],
      "source": [
        "# Sort model results by MAE and plot them\n",
        "model_results[[\"mae\"]].sort_values(by=\"mae\").plot(figsize=(10, 7), kind=\"bar\");"
      ]
    },
    {
      "cell_type": "markdown",
      "metadata": {
        "id": "GP-8VdE1nqZV"
      },
      "source": [
        "Phần lớn các mô hình deep learning của chúng ta hoạt động ngang bằng hoặc chỉ tốt hơn một chút so với naïve model. Và đối với mô hình turkey, việc thay đổi một điểm dữ liệu duy nhất sẽ phá hủy hiệu suất của nó.\n",
        "\n",
        "Chỉ vì một loại mô hình hoạt động tốt hơn ở đây không có nghĩa là nó sẽ hoạt động tốt nhất ở nơi khác\n",
        "\n",
        "Khi bạn dự đoán thị trong Bitcoin và có ý định đầu tư vào nó đừng quá phụ thuộc vào kết quả dự đoán đạt được. \n",
        "\n",
        "Hãy dự trù những trường hợp tiêu cực để có cách khắc phục tránh thua lỗ"
      ]
    }
  ],
  "metadata": {
    "accelerator": "GPU",
    "colab": {
      "provenance": []
    },
    "kernelspec": {
      "display_name": "Python 3",
      "name": "python3"
    },
    "language_info": {
      "name": "python"
    }
  },
  "nbformat": 4,
  "nbformat_minor": 0
}
